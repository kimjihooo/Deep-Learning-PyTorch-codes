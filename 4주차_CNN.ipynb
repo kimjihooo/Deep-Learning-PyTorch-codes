{
  "cells": [
    {
      "cell_type": "markdown",
      "metadata": {
        "id": "YWc0fNpK4IUQ"
      },
      "source": [
        "# 4주차 과제\n",
        "fashion MNIST 데이터셋을 사용하여 의류 이미지를 분류하는 CNN 만들기\n",
        "\n",
        "여러가지를 시도해보시면서(레이어 개수, 노드 개수, 활성화 함수, optimizer, 배치 정규화 등등) 가장 정확도가 높은 것만 남기지 마시고 시도했던 모든 버전의 코드와 그 모델의 정확도를 남겨주세요. 적어도 3가지 정도의 버전이 있으면 바람직할 것 같습니다. 이 버전은 무엇을 바꾸고, 무엇을 시도한 버전인지도 작성해주세요."
      ]
    },
    {
      "cell_type": "code",
      "source": [
        "1"
      ],
      "metadata": {
        "colab": {
          "base_uri": "https://localhost:8080/"
        },
        "id": "7zpjfbSF5qHM",
        "outputId": "e88fabde-ad2d-4e61-d5e6-4cb44cfd9d75"
      },
      "execution_count": 1,
      "outputs": [
        {
          "output_type": "execute_result",
          "data": {
            "text/plain": [
              "1"
            ]
          },
          "metadata": {},
          "execution_count": 1
        }
      ]
    },
    {
      "cell_type": "code",
      "execution_count": 2,
      "metadata": {
        "id": "cKr4n6WU4al7"
      },
      "outputs": [],
      "source": [
        "import torch #파이토치\n",
        "import torchvision.datasets as dsets #MNIST 데이터셋을 불러옴\n",
        "import torchvision.transforms as transforms #이미지 변환 툴\n",
        "import torch.nn.init #텐서에 초기값을 줌\n",
        "\n",
        "import matplotlib.pyplot as plt\n",
        "import numpy as np"
      ]
    },
    {
      "cell_type": "code",
      "execution_count": 3,
      "metadata": {
        "id": "R2kqIynL4kN2"
      },
      "outputs": [],
      "source": [
        "device = 'cuda' if torch.cuda.is_available() else 'cpu'\n",
        "\n",
        "# 랜덤 시드 고정\n",
        "torch.manual_seed(777)\n",
        "\n",
        "# GPU 사용 가능일 경우 랜덤 시드 고정\n",
        "if device == 'cuda':\n",
        "    torch.cuda.manual_seed_all(777)"
      ]
    },
    {
      "cell_type": "markdown",
      "metadata": {
        "id": "LX3D1but41Vi"
      },
      "source": [
        "## 데이터 불러오기\n",
        "FashionMNIST\n",
        "\n",
        "운동화, 셔츠 등 다양한 의류 이미지와 그 종류 라벨로 구성된 computer vision 데이터이다. 한 이미지는 28*28이며 10가지의 종류로 분류된다."
      ]
    },
    {
      "cell_type": "code",
      "execution_count": 4,
      "metadata": {
        "colab": {
          "base_uri": "https://localhost:8080/",
          "height": 444,
          "referenced_widgets": [
            "8003c62600b543d48869114e674efc10",
            "0d2ba91c4e664010a4edd74599e65e6d",
            "2021aba8c81742659c35b77327227950",
            "1830019a68f84e16be51457a540dd54b",
            "16868f51e66d44c687cc847cbb08bb1f",
            "7650714a7cab4047a451a0460e741f65",
            "6bbf07525ffb4c89bffbbd1728f1a80d",
            "59e07ba741d44e7d98e41a8d33aa18cd",
            "65b9082f3d64499e9a37c3ad5a7657e7",
            "e0b54e6721794997926ac6f993aa62e6",
            "42c24896d82941a9b56ae35e019e4f9f",
            "87e573250bf14fbfa24ec9ecbde78eba",
            "ebaf79c550544bd7819b6d98ae651b1d",
            "a87e8d836f2d473593c5d71200225c11",
            "f90b25b8c5ef4f8989b41d2f894f5037",
            "0d84b984a3684271846c957921b3f1b2",
            "e74a7a1766f9463c8ae6c407265746bf",
            "fa1e979e2b3141fa99fd6f6b0972e178",
            "0e9cf4fe7f6442aeb7537ed5e3275448",
            "369daf8c818b45199688961780129aa1",
            "0f2412593b324be29ed79b6e49fc5db6",
            "f803c8293d034a599e3a0be04d782a99",
            "72d4691b8fae418a99c00d464928b71f",
            "89ed7c63c4244c0aaec01fe54f80847f",
            "406f74e6a0a74662b233554e714b37d5",
            "b5c9c39e79ab48ebb0c1a3b96f7b9a60",
            "068066f64796441ba96d4f350eda7d7f",
            "c6c0e8f694314cd6bcdfb7d7906e6653",
            "ed0e2752a8f14b74a6e8b73abae73cbe",
            "7fee55fe093d45a883f18a33ceb04d14",
            "9388495995264df0b0a1062122b488b4",
            "eb31b96e823a4242a57334f1a62e0151",
            "18d47899a6fd4d0ca659257b64aa9c79",
            "dc89d161ec7144698e5dbf700433ceb6",
            "cdab451099c5494aaaa73d3ccdb98e4b",
            "2674c546405c47b8bfc5815a5e70abe4",
            "a7a370c9f41a4b34bf7eda3d22dc5201",
            "8d29a18285834b1ab9a4ce5410044861",
            "f2c2567930f042e3aeed4487081c6cd1",
            "714f72c95e10436d8177fa0129c0b4c6",
            "b908820857e74e4385487277005f9b11",
            "1b7b2c8adc894258acd238d2331fc12e",
            "bf82ed737ff94f64a5d8e962c936696f",
            "34fa6414648644b6bf0b855bff1a6937"
          ]
        },
        "id": "itgKMibf4DuX",
        "outputId": "5d31dc5a-5d45-4587-b867-3ac57742a1ca"
      },
      "outputs": [
        {
          "output_type": "stream",
          "name": "stdout",
          "text": [
            "Downloading http://fashion-mnist.s3-website.eu-central-1.amazonaws.com/train-images-idx3-ubyte.gz\n",
            "Downloading http://fashion-mnist.s3-website.eu-central-1.amazonaws.com/train-images-idx3-ubyte.gz to ./.data/FashionMNIST/raw/train-images-idx3-ubyte.gz\n"
          ]
        },
        {
          "output_type": "display_data",
          "data": {
            "application/vnd.jupyter.widget-view+json": {
              "model_id": "8003c62600b543d48869114e674efc10",
              "version_minor": 0,
              "version_major": 2
            },
            "text/plain": [
              "  0%|          | 0/26421880 [00:00<?, ?it/s]"
            ]
          },
          "metadata": {}
        },
        {
          "output_type": "stream",
          "name": "stdout",
          "text": [
            "Extracting ./.data/FashionMNIST/raw/train-images-idx3-ubyte.gz to ./.data/FashionMNIST/raw\n",
            "\n",
            "Downloading http://fashion-mnist.s3-website.eu-central-1.amazonaws.com/train-labels-idx1-ubyte.gz\n",
            "Downloading http://fashion-mnist.s3-website.eu-central-1.amazonaws.com/train-labels-idx1-ubyte.gz to ./.data/FashionMNIST/raw/train-labels-idx1-ubyte.gz\n"
          ]
        },
        {
          "output_type": "display_data",
          "data": {
            "application/vnd.jupyter.widget-view+json": {
              "model_id": "87e573250bf14fbfa24ec9ecbde78eba",
              "version_minor": 0,
              "version_major": 2
            },
            "text/plain": [
              "  0%|          | 0/29515 [00:00<?, ?it/s]"
            ]
          },
          "metadata": {}
        },
        {
          "output_type": "stream",
          "name": "stdout",
          "text": [
            "Extracting ./.data/FashionMNIST/raw/train-labels-idx1-ubyte.gz to ./.data/FashionMNIST/raw\n",
            "\n",
            "Downloading http://fashion-mnist.s3-website.eu-central-1.amazonaws.com/t10k-images-idx3-ubyte.gz\n",
            "Downloading http://fashion-mnist.s3-website.eu-central-1.amazonaws.com/t10k-images-idx3-ubyte.gz to ./.data/FashionMNIST/raw/t10k-images-idx3-ubyte.gz\n"
          ]
        },
        {
          "output_type": "display_data",
          "data": {
            "application/vnd.jupyter.widget-view+json": {
              "model_id": "72d4691b8fae418a99c00d464928b71f",
              "version_minor": 0,
              "version_major": 2
            },
            "text/plain": [
              "  0%|          | 0/4422102 [00:00<?, ?it/s]"
            ]
          },
          "metadata": {}
        },
        {
          "output_type": "stream",
          "name": "stdout",
          "text": [
            "Extracting ./.data/FashionMNIST/raw/t10k-images-idx3-ubyte.gz to ./.data/FashionMNIST/raw\n",
            "\n",
            "Downloading http://fashion-mnist.s3-website.eu-central-1.amazonaws.com/t10k-labels-idx1-ubyte.gz\n",
            "Downloading http://fashion-mnist.s3-website.eu-central-1.amazonaws.com/t10k-labels-idx1-ubyte.gz to ./.data/FashionMNIST/raw/t10k-labels-idx1-ubyte.gz\n"
          ]
        },
        {
          "output_type": "display_data",
          "data": {
            "application/vnd.jupyter.widget-view+json": {
              "model_id": "dc89d161ec7144698e5dbf700433ceb6",
              "version_minor": 0,
              "version_major": 2
            },
            "text/plain": [
              "  0%|          | 0/5148 [00:00<?, ?it/s]"
            ]
          },
          "metadata": {}
        },
        {
          "output_type": "stream",
          "name": "stdout",
          "text": [
            "Extracting ./.data/FashionMNIST/raw/t10k-labels-idx1-ubyte.gz to ./.data/FashionMNIST/raw\n",
            "\n"
          ]
        }
      ],
      "source": [
        "trainset = dsets.FashionMNIST(\n",
        "    root      = './.data/', \n",
        "    train     = True,\n",
        "    download  = True,\n",
        "    transform = transforms.ToTensor()\n",
        ")\n",
        "\n",
        "testset = dsets.FashionMNIST(\n",
        "    root      = './.data/', \n",
        "    train     = False,\n",
        "    download  = True,\n",
        "    transform = transforms.ToTensor()\n",
        ")"
      ]
    },
    {
      "cell_type": "markdown",
      "metadata": {
        "id": "aKqSqBCQ9twR"
      },
      "source": [
        "# 모델1\n",
        "\n",
        "학습률 0.001 / 에폭 15 / 배치 사이즈 15\n",
        "\n",
        "활성화 함수 ReLU\n",
        "\n",
        "풀링 MaxPool2d"
      ]
    },
    {
      "cell_type": "markdown",
      "metadata": {
        "id": "P7d9OBKK45kN"
      },
      "source": [
        "## 초모수 설정"
      ]
    },
    {
      "cell_type": "code",
      "execution_count": null,
      "metadata": {
        "id": "IwWkfKXx4nLp"
      },
      "outputs": [],
      "source": [
        "learning_rate = 0.001 # 가중치를 얼마나 크게 갱신할지 결정하는 학습률\n",
        "training_epochs = 15 # 반복학습의 횟수\n",
        "batch_size = 15 # 한 iteration에서 사용할 데이터 크기"
      ]
    },
    {
      "cell_type": "code",
      "execution_count": null,
      "metadata": {
        "id": "AJ6R0ssk4WBH"
      },
      "outputs": [],
      "source": [
        "train_loader = torch.utils.data.DataLoader(\n",
        "    dataset     = trainset,\n",
        "    batch_size  = batch_size,\n",
        "    shuffle     = True,\n",
        ")\n",
        "\n",
        "test_loader = torch.utils.data.DataLoader(\n",
        "    dataset     = testset,\n",
        "    batch_size  = batch_size,\n",
        "    shuffle     = True,\n",
        ")"
      ]
    },
    {
      "cell_type": "code",
      "source": [
        "len(train_loader)"
      ],
      "metadata": {
        "colab": {
          "base_uri": "https://localhost:8080/"
        },
        "id": "zLYjhqXe27uB",
        "outputId": "ac03aa81-b72e-4399-823c-6aa19e82f715"
      },
      "execution_count": null,
      "outputs": [
        {
          "output_type": "execute_result",
          "data": {
            "text/plain": [
              "4000"
            ]
          },
          "metadata": {},
          "execution_count": 32
        }
      ]
    },
    {
      "cell_type": "code",
      "source": [
        "len(test_loader)"
      ],
      "metadata": {
        "colab": {
          "base_uri": "https://localhost:8080/"
        },
        "id": "QkYz_5Zi2_vo",
        "outputId": "066c2016-3a98-4433-8589-de8b0d245335"
      },
      "execution_count": null,
      "outputs": [
        {
          "output_type": "execute_result",
          "data": {
            "text/plain": [
              "667"
            ]
          },
          "metadata": {},
          "execution_count": 33
        }
      ]
    },
    {
      "cell_type": "code",
      "execution_count": null,
      "metadata": {
        "colab": {
          "base_uri": "https://localhost:8080/",
          "height": 120
        },
        "id": "clMAhN8U6Vj1",
        "outputId": "25a2d934-ca93-4527-e21b-2596258f541e"
      },
      "outputs": [
        {
          "data": {
            "image/png": "[encoded data removed]",
            "text/plain": [
              "<Figure size 720x720 with 1 Axes>"
            ]
          },
          "metadata": {},
          "output_type": "display_data"
        }
      ],
      "source": [
        "# 데이터(이미지) 확인해보기\n",
        "from torchvision import utils\n",
        "\n",
        "dataiter       = iter(train_loader)   # iter함수로 iteration 객체 가져오기\n",
        "images, labels = next(dataiter)   # next함수로 다음 배치 1개 갖고오기\n",
        "\n",
        "img   = utils.make_grid(images[:8], padding=0)\n",
        "npimg = img.numpy()\n",
        "plt.figure(figsize=(10, 10))\n",
        "plt.imshow(np.transpose(npimg, (1,2,0)))\n",
        "plt.show()"
      ]
    },
    {
      "cell_type": "markdown",
      "metadata": {
        "id": "0n3kUPPo5lsf"
      },
      "source": [
        "## CNN 클래스 만들기"
      ]
    },
    {
      "cell_type": "code",
      "execution_count": null,
      "metadata": {
        "id": "mABPuEBR5kcy"
      },
      "outputs": [],
      "source": [
        "# 직접 CNN 클래스를 만들어봅시다.\n",
        "class CNN(torch.nn.Module):\n",
        "\n",
        "    def __init__(self):\n",
        "        super(CNN, self).__init__()\n",
        "\n",
        "        # first layer\n",
        "        self.layer1 = torch.nn.Sequential(\n",
        "            torch.nn.Conv2d(1, 32, kernel_size=3, stride=1, padding=1),   # convolution\n",
        "            torch.nn.ReLU(),   # activation function\n",
        "            torch.nn.MaxPool2d(kernel_size=2, stride=2))   # pooling\n",
        "\n",
        "        # second layer\n",
        "        self.layer2 = torch.nn.Sequential(\n",
        "            torch.nn.Conv2d(32, 64, kernel_size=3, stride=1, padding=1),\n",
        "            torch.nn.ReLU(),\n",
        "            torch.nn.MaxPool2d(kernel_size=2, stride=2))\n",
        "\n",
        "        # fully-connected layer 7x7x64 inputs -> 10 outputs\n",
        "        self.fc = torch.nn.Linear(7 * 7 * 64, 10, bias=True)\n",
        "\n",
        "        # fully-connected layer 한정으로 가중치 초기화\n",
        "        torch.nn.init.xavier_uniform_(self.fc.weight)\n",
        "\n",
        "    def forward(self, x):\n",
        "        out = self.layer1(x)   # first layer 통과\n",
        "        out = self.layer2(out)   # second layer 통과\n",
        "        out = out.view(out.size(0), -1)   # fully-connected layer를 위해서 Flatten\n",
        "        out = self.fc(out) # fully-connected layer 통과\n",
        "        return out"
      ]
    },
    {
      "cell_type": "code",
      "execution_count": null,
      "metadata": {
        "id": "cwP_aihF5qGe"
      },
      "outputs": [],
      "source": [
        "model1 = CNN().to(device)"
      ]
    },
    {
      "cell_type": "code",
      "execution_count": null,
      "metadata": {
        "id": "wp5tmKc95r8y"
      },
      "outputs": [],
      "source": [
        "# loss function과 optimizer를 정해봅시다.\n",
        "criterion = torch.nn.CrossEntropyLoss().to(device)   # loss function 정의\n",
        "optimizer = torch.optim.Adam(model1.parameters(), lr=learning_rate)   #optimizer 정의, Adam으로 설정"
      ]
    },
    {
      "cell_type": "markdown",
      "metadata": {
        "id": "vLjFhd-M5wgz"
      },
      "source": [
        "## 모델학습"
      ]
    },
    {
      "cell_type": "code",
      "execution_count": null,
      "metadata": {
        "id": "jH5kVd4z7HXp"
      },
      "outputs": [],
      "source": [
        "def training_model(model, data, epochs):\n",
        "  total_batch = len(data)\n",
        "\n",
        "  for epoch in range(epochs):\n",
        "    avg_cost = 0\n",
        "\n",
        "    for X, Y in data:  #data_loader에 배치들이 저장되어 있음. 한 iteration당 한 개의 배치를 꺼내와서 사용\n",
        "        X = X.to(device)   #이미지\n",
        "        Y = Y.to(device)   #레이블(해당 이미지가 뜻하는 숫자)\n",
        "\n",
        "        optimizer.zero_grad()   #지난 iteration에서 계산했던 기울기 초기화\n",
        "        hypothesis = model(X)   #순전파 과정으로 예측값 도출\n",
        "        cost = criterion(hypothesis, Y)   #예측값과 실제값을 비교한 loss\n",
        "        cost.backward()   #역전파, 기울기 계산\n",
        "        optimizer.step()   #optimizer로 가중치 갱신\n",
        "\n",
        "        avg_cost += cost / total_batch\n",
        "\n",
        "    print('[Epoch: {:>4}] cost = {:>.9}'.format(epoch + 1, avg_cost))"
      ]
    },
    {
      "cell_type": "code",
      "execution_count": null,
      "metadata": {
        "colab": {
          "base_uri": "https://localhost:8080/"
        },
        "id": "ZDHAIL8b5uN1",
        "outputId": "bc064045-0fdd-48c3-ec3a-02105d64cccb"
      },
      "outputs": [
        {
          "name": "stdout",
          "output_type": "stream",
          "text": [
            "[Epoch:    1] cost = 0.511370063\n",
            "[Epoch:    2] cost = 0.331731647\n",
            "[Epoch:    3] cost = 0.293437481\n",
            "[Epoch:    4] cost = 0.267594516\n",
            "[Epoch:    5] cost = 0.248459384\n",
            "[Epoch:    6] cost = 0.232258201\n",
            "[Epoch:    7] cost = 0.220570669\n",
            "[Epoch:    8] cost = 0.206883907\n",
            "[Epoch:    9] cost = 0.197418094\n",
            "[Epoch:   10] cost = 0.185276896\n",
            "[Epoch:   11] cost = 0.1765977\n",
            "[Epoch:   12] cost = 0.168466359\n",
            "[Epoch:   13] cost = 0.161205158\n",
            "[Epoch:   14] cost = 0.152908951\n",
            "[Epoch:   15] cost = 0.142818108\n"
          ]
        }
      ],
      "source": [
        "# 모델을 학습시켜봅시다.\n",
        "training_model(model = model1, data = train_loader, epochs = training_epochs)"
      ]
    },
    {
      "cell_type": "markdown",
      "metadata": {
        "id": "0WZ3kKmT5267"
      },
      "source": [
        "## 결과"
      ]
    },
    {
      "cell_type": "code",
      "execution_count": null,
      "metadata": {
        "colab": {
          "base_uri": "https://localhost:8080/"
        },
        "id": "0sv-nLFj5zXB",
        "outputId": "5f8598e4-fbfd-434d-a8ff-a0e58b5711ad"
      },
      "outputs": [
        {
          "name": "stdout",
          "output_type": "stream",
          "text": [
            "Accuracy: 0.9116\n"
          ]
        }
      ],
      "source": [
        "# test 데이터를 사용하여 모델의 성능(정확도)을 확인해봅시다.\n",
        "\n",
        "correct = 0\n",
        "\n",
        "with torch.no_grad():\n",
        "    for data, target in test_loader:\n",
        "            data, target = data.to(device), target.to(device)\n",
        "            output = model1(data)\n",
        "            \n",
        "            pred = output.max(1, keepdim=True)[1]\n",
        "            # eq() 함수는 값이 일치하면 1을, 아니면 0을 출력.\n",
        "            correct += pred.eq(target.view_as(pred)).sum().item()\n",
        "\n",
        "    test_accuracy = correct / len(test_loader.dataset)\n",
        "    print('Accuracy:', test_accuracy)"
      ]
    },
    {
      "cell_type": "markdown",
      "metadata": {
        "id": "eBtewS_f-9eA"
      },
      "source": [
        "# 모델2\n",
        "\n",
        "학습률 0.01 / 에폭 50 / 배치사이즈 200\n",
        "\n",
        "레이어 5개\n",
        "\n",
        "드롭아웃 0.5 추가"
      ]
    },
    {
      "cell_type": "code",
      "execution_count": null,
      "metadata": {
        "id": "uACyOBur_cKC"
      },
      "outputs": [],
      "source": [
        "learning_rate = 0.01 # 가중치를 얼마나 크게 갱신할지 결정하는 학습률\n",
        "training_epochs = 50 # 반복학습의 횟수\n",
        "batch_size = 200 # 한 iteration에서 사용할 데이터 크기"
      ]
    },
    {
      "cell_type": "code",
      "execution_count": null,
      "metadata": {
        "id": "26QF2bv0DG1B"
      },
      "outputs": [],
      "source": [
        "train_loader = torch.utils.data.DataLoader(\n",
        "    dataset     = trainset,\n",
        "    batch_size  = batch_size,\n",
        "    shuffle     = True,\n",
        ")\n",
        "\n",
        "test_loader = torch.utils.data.DataLoader(\n",
        "    dataset     = testset,\n",
        "    batch_size  = batch_size,\n",
        "    shuffle     = True,\n",
        ")"
      ]
    },
    {
      "cell_type": "code",
      "execution_count": null,
      "metadata": {
        "id": "End-AGSIDTdl"
      },
      "outputs": [],
      "source": [
        "class CNN(torch.nn.Module):\n",
        "\n",
        "    def __init__(self):\n",
        "        super(CNN, self).__init__()\n",
        "        self.keep_prob = 0.5\n",
        "\n",
        "        # first layer (1->32)\n",
        "        self.layer1 = torch.nn.Sequential(\n",
        "            torch.nn.Conv2d(1, 32, kernel_size=3, stride=1, padding=1),\n",
        "            torch.nn.ReLU(),\n",
        "            torch.nn.MaxPool2d(kernel_size=2, stride=2))\n",
        "        \n",
        "        # second layer (32->64)\n",
        "        self.layer2 = torch.nn.Sequential(\n",
        "            torch.nn.Conv2d(32, 64, kernel_size=3, stride=1, padding=1),\n",
        "            torch.nn.ReLU(),\n",
        "            torch.nn.MaxPool2d(kernel_size=2, stride=2))\n",
        "        \n",
        "        # third layer (64->128)\n",
        "        self.layer3 = torch.nn.Sequential(\n",
        "            torch.nn.Conv2d(64, 128, kernel_size=3, stride=1, padding=1),\n",
        "            torch.nn.ReLU(),\n",
        "            torch.nn.MaxPool2d(kernel_size=2, stride=2, padding=1))\n",
        "\n",
        "        # fourth layer(fully-connected layer, 4x4x128 -> 625)\n",
        "        self.fc1 = torch.nn.Linear(4 * 4 * 128, 625, bias=True)\n",
        "        torch.nn.init.xavier_uniform_(self.fc1.weight)   # 가중치 초기화\n",
        "        self.layer4 = torch.nn.Sequential(\n",
        "            self.fc1,\n",
        "            torch.nn.ReLU(),\n",
        "            torch.nn.Dropout(p=1 - self.keep_prob))\n",
        "        \n",
        "        # fifth layer(fully-connected layer, 625 -> 10) \n",
        "        self.fc2 = torch.nn.Linear(625, 10, bias=True)\n",
        "        torch.nn.init.xavier_uniform_(self.fc2.weight)\n",
        "\n",
        "    def forward(self, x):\n",
        "        out = self.layer1(x)   # first layer 통과\n",
        "        out = self.layer2(out)   # second layer 통과\n",
        "        out = self.layer3(out)   # third layer 통과\n",
        "        out = out.view(out.size(0), -1)   # fully-connected layer를 위해서 Flatten\n",
        "        out = self.layer4(out)   # fourth layer 통과\n",
        "        out = self.fc2(out)   # fifth layer 통과\n",
        "        return out"
      ]
    },
    {
      "cell_type": "code",
      "execution_count": null,
      "metadata": {
        "id": "ImZIACsTDe8p"
      },
      "outputs": [],
      "source": [
        "model2 = CNN().to(device)"
      ]
    },
    {
      "cell_type": "code",
      "execution_count": null,
      "metadata": {
        "id": "PvGutDgRDfD8"
      },
      "outputs": [],
      "source": [
        "# loss function과 optimizer를 정해봅시다.\n",
        "criterion = torch.nn.CrossEntropyLoss().to(device)   # loss function 정의\n",
        "optimizer = torch.optim.Adam(model2.parameters(), lr=learning_rate)   #optimizer 정의, Adam으로 설정"
      ]
    },
    {
      "cell_type": "code",
      "execution_count": 15,
      "metadata": {
        "id": "MYywTUb-ES8Z"
      },
      "outputs": [],
      "source": [
        "def training_model(model, data, epochs):\n",
        "  total_batch = len(data)\n",
        "\n",
        "  for epoch in range(epochs):\n",
        "    avg_cost = 0\n",
        "\n",
        "    for X, Y in data:  #data_loader에 배치들이 저장되어 있음. 한 iteration당 한 개의 배치를 꺼내와서 사용\n",
        "        X = X.to(device)   #이미지\n",
        "        Y = Y.to(device)   #레이블(해당 이미지가 뜻하는 숫자)\n",
        "\n",
        "        optimizer.zero_grad()   #지난 iteration에서 계산했던 기울기 초기화\n",
        "        hypothesis = model(X)   #순전파 과정으로 예측값 도출\n",
        "        cost = criterion(hypothesis, Y)   #예측값과 실제값을 비교한 loss\n",
        "        cost.backward()   #역전파, 기울기 계산\n",
        "        optimizer.step()   #optimizer로 가중치 갱신\n",
        "\n",
        "        avg_cost += cost / total_batch\n",
        "        \n",
        "    if epoch % 10 ==0:\n",
        "      print('[Epoch: {:>4}] cost = {:>.9}'.format(epoch + 1, avg_cost))"
      ]
    },
    {
      "cell_type": "code",
      "execution_count": null,
      "metadata": {
        "colab": {
          "base_uri": "https://localhost:8080/"
        },
        "id": "3yuQXOjkETDG",
        "outputId": "5876f0ae-5dfc-40b6-d12c-122fc8a267b5"
      },
      "outputs": [
        {
          "output_type": "stream",
          "name": "stdout",
          "text": [
            "[Epoch:    1] cost = 0.699974477\n",
            "[Epoch:   11] cost = 0.332715154\n",
            "[Epoch:   21] cost = 0.312743485\n",
            "[Epoch:   31] cost = 0.306744069\n",
            "[Epoch:   41] cost = 0.299075812\n"
          ]
        }
      ],
      "source": [
        "# 모델을 학습시켜봅시다.\n",
        "training_model(model = model2, data = train_loader, epochs = training_epochs)"
      ]
    },
    {
      "cell_type": "code",
      "execution_count": null,
      "metadata": {
        "id": "EZUrHv9aD0gm",
        "colab": {
          "base_uri": "https://localhost:8080/"
        },
        "outputId": "8820cda5-ccdf-4aad-b882-2d303600a82d"
      },
      "outputs": [
        {
          "output_type": "stream",
          "name": "stdout",
          "text": [
            "Accuracy: 0.8598\n"
          ]
        }
      ],
      "source": [
        "# test 데이터를 사용하여 모델의 성능(정확도)을 확인해봅시다.\n",
        "\n",
        "correct = 0\n",
        "\n",
        "with torch.no_grad():\n",
        "    for data, target in test_loader:\n",
        "            data, target = data.to(device), target.to(device)\n",
        "            output = model2(data)\n",
        "            \n",
        "            pred = output.max(1, keepdim=True)[1]\n",
        "            # eq() 함수는 값이 일치하면 1을, 아니면 0을 출력.\n",
        "            correct += pred.eq(target.view_as(pred)).sum().item()\n",
        "\n",
        "    test_accuracy = correct / len(test_loader.dataset)\n",
        "    print('Accuracy:', test_accuracy)"
      ]
    },
    {
      "cell_type": "markdown",
      "metadata": {
        "id": "yJJxj04eFpQ3"
      },
      "source": [
        "# 모델3\n",
        "학습률 0.001 / 에폭 15 / 배치사이즈 15\n",
        "\n",
        "nn.Tanh() 활성화 함수 변경"
      ]
    },
    {
      "cell_type": "code",
      "execution_count": null,
      "metadata": {
        "id": "YPR_ksydFstP"
      },
      "outputs": [],
      "source": [
        "learning_rate = 0.001 # 가중치를 얼마나 크게 갱신할지 결정하는 학습률\n",
        "training_epochs = 15 # 반복학습의 횟수\n",
        "batch_size = 15 # 한 iteration에서 사용할 데이터 크기"
      ]
    },
    {
      "cell_type": "code",
      "source": [
        "train_loader = torch.utils.data.DataLoader(\n",
        "    dataset     = trainset,\n",
        "    batch_size  = batch_size,\n",
        "    shuffle     = True,\n",
        ")\n",
        "\n",
        "test_loader = torch.utils.data.DataLoader(\n",
        "    dataset     = testset,\n",
        "    batch_size  = batch_size,\n",
        "    shuffle     = True,\n",
        ")"
      ],
      "metadata": {
        "id": "QWt_mIM1G6wH"
      },
      "execution_count": null,
      "outputs": []
    },
    {
      "cell_type": "code",
      "source": [
        "class CNN(torch.nn.Module):\n",
        "\n",
        "    def __init__(self):\n",
        "        super(CNN, self).__init__()\n",
        "        self.keep_prob = 0.5\n",
        "\n",
        "        # first layer (1->32)\n",
        "        self.layer1 = torch.nn.Sequential(\n",
        "            torch.nn.Conv2d(1, 32, kernel_size=3, stride=1, padding=1), # 1채널, 32채널\n",
        "            torch.nn.Tanh(),\n",
        "            torch.nn.MaxPool2d(kernel_size=2, stride=2))\n",
        "        \n",
        "        # second layer (32->64)\n",
        "        self.layer2 = torch.nn.Sequential(\n",
        "            torch.nn.Conv2d(32, 64, kernel_size=3, stride=1, padding=1),\n",
        "            torch.nn.Tanh(),\n",
        "            torch.nn.MaxPool2d(kernel_size=2, stride=2))\n",
        "        \n",
        "        # third layer (64->128)\n",
        "        self.layer3 = torch.nn.Sequential(\n",
        "            torch.nn.Conv2d(64, 128, kernel_size=3, stride=1, padding=1),\n",
        "            torch.nn.Tanh(),\n",
        "            torch.nn.MaxPool2d(kernel_size=2, stride=2, padding=1))\n",
        "\n",
        "        # fourth layer(fully-connected layer, 4x4x128 -> 625)\n",
        "        self.fc1 = torch.nn.Linear(4 * 4 * 128, 625, bias=True)\n",
        "        torch.nn.init.xavier_normal_(self.fc1.weight)   # 가중치 초기화\n",
        "        self.layer4 = torch.nn.Sequential(\n",
        "            self.fc1,\n",
        "            torch.nn.Tanh(),\n",
        "            torch.nn.Dropout(p=1 - self.keep_prob))\n",
        "        \n",
        "        # fifth layer(fully-connected layer, 625 -> 10) \n",
        "        self.fc2 = torch.nn.Linear(625, 10, bias=True)\n",
        "        torch.nn.init.xavier_normal_(self.fc2.weight)\n",
        "\n",
        "    def forward(self, x):\n",
        "        out = self.layer1(x)   # first layer 통과\n",
        "        out = self.layer2(out)   # second layer 통과\n",
        "        out = self.layer3(out)   # third layer 통과\n",
        "        out = out.view(out.size(0), -1)   # fully-connected layer를 위해서 Flatten\n",
        "        out = self.layer4(out)   # fourth layer 통과\n",
        "        out = self.fc2(out)   # fifth layer 통과\n",
        "        return out"
      ],
      "metadata": {
        "id": "9NuxM8dCG6-8"
      },
      "execution_count": null,
      "outputs": []
    },
    {
      "cell_type": "code",
      "source": [
        "model3 = CNN().to(device)"
      ],
      "metadata": {
        "id": "F005btqmI4oB"
      },
      "execution_count": null,
      "outputs": []
    },
    {
      "cell_type": "code",
      "source": [
        "# loss function과 optimizer를 정해봅시다.\n",
        "criterion = torch.nn.CrossEntropyLoss().to(device)   # loss function 정의\n",
        "optimizer = torch.optim.Adam(model3.parameters(), lr=learning_rate)   #optimizer 정의, Adam으로 설정"
      ],
      "metadata": {
        "id": "5rtEvD8lJK8s"
      },
      "execution_count": null,
      "outputs": []
    },
    {
      "cell_type": "code",
      "source": [
        "# 모델을 학습시켜봅시다.\n",
        "training_model(model = model3, data = train_loader, epochs = training_epochs)"
      ],
      "metadata": {
        "colab": {
          "base_uri": "https://localhost:8080/"
        },
        "id": "p3B89xMpJLCZ",
        "outputId": "60d95d58-9a58-4676-8f82-e6b680fc0ee4"
      },
      "execution_count": null,
      "outputs": [
        {
          "output_type": "stream",
          "name": "stdout",
          "text": [
            "[Epoch:    1] cost = 0.430397034\n",
            "[Epoch:   11] cost = 0.231742546\n"
          ]
        }
      ]
    },
    {
      "cell_type": "code",
      "source": [
        "# test 데이터를 사용하여 모델의 성능(정확도)을 확인해봅시다.\n",
        "\n",
        "correct = 0\n",
        "\n",
        "with torch.no_grad():\n",
        "    for data, target in test_loader:\n",
        "            data, target = data.to(device), target.to(device)\n",
        "            output = model3(data)\n",
        "            \n",
        "            pred = output.max(1, keepdim=True)[1]\n",
        "            # eq() 함수는 값이 일치하면 1을, 아니면 0을 출력.\n",
        "            correct += pred.eq(target.view_as(pred)).sum().item()\n",
        "\n",
        "    test_accuracy = correct / len(test_loader.dataset)\n",
        "    print('Accuracy:', test_accuracy)"
      ],
      "metadata": {
        "colab": {
          "base_uri": "https://localhost:8080/"
        },
        "id": "1DajuaWWJaOC",
        "outputId": "26ee439b-9f82-4adb-bb98-78144a65717c"
      },
      "execution_count": null,
      "outputs": [
        {
          "output_type": "stream",
          "name": "stdout",
          "text": [
            "Accuracy: 0.894\n"
          ]
        }
      ]
    },
    {
      "cell_type": "markdown",
      "source": [
        "# 모델4\n",
        "학습률 0.001 / 에폭 15 / 배치 사이즈 15\n",
        "\n",
        "레이어 4개\n",
        "\n",
        "풀링 AvgPool\n",
        "\n",
        "채널 수 변경\n",
        "\n",
        "optimizer Adagrad로 변경"
      ],
      "metadata": {
        "id": "cFNHG69o0iqz"
      }
    },
    {
      "cell_type": "code",
      "source": [
        "learning_rate = 0.001 # 가중치를 얼마나 크게 갱신할지 결정하는 학습률\n",
        "training_epochs = 15 # 반복학습의 횟수\n",
        "batch_size = 15 # 한 iteration에서 사용할 데이터 크기"
      ],
      "metadata": {
        "id": "iTnhniPgJaVN"
      },
      "execution_count": null,
      "outputs": []
    },
    {
      "cell_type": "code",
      "source": [
        "train_loader = torch.utils.data.DataLoader(\n",
        "    dataset     = trainset,\n",
        "    batch_size  = batch_size,\n",
        "    shuffle     = True,\n",
        ")\n",
        "\n",
        "test_loader = torch.utils.data.DataLoader(\n",
        "    dataset     = testset,\n",
        "    batch_size  = batch_size,\n",
        "    shuffle     = True,\n",
        ")"
      ],
      "metadata": {
        "id": "gzvS0JaNJae1"
      },
      "execution_count": null,
      "outputs": []
    },
    {
      "cell_type": "code",
      "source": [
        "class CNN(torch.nn.Module):\n",
        "\n",
        "    def __init__(self):\n",
        "        super(CNN, self).__init__()\n",
        "        self.keep_prob = 0.5 \n",
        "\n",
        "        # first layer (28*28*1->14*14*64) \n",
        "        self.layer1 = torch.nn.Sequential(\n",
        "            torch.nn.Conv2d(1, 64, kernel_size=3, stride=1, padding=1), # 1채널, 64채널\n",
        "            torch.nn.Tanh(),\n",
        "            torch.nn.AvgPool2d(kernel_size=2, stride=2))\n",
        "        \n",
        "        # second layer (14*14*64->7*7*32)\n",
        "        self.layer2 = torch.nn.Sequential(\n",
        "            torch.nn.Conv2d(64, 32, kernel_size=3, stride=1, padding=1),\n",
        "            torch.nn.Tanh(),\n",
        "            torch.nn.AvgPool2d(kernel_size=2, stride=2))\n",
        "\n",
        "        # third layer(fully-connected layer, 7x7x128 -> 128)\n",
        "        self.fc1 = torch.nn.Linear(7 * 7 * 32, 128, bias=True)\n",
        "        torch.nn.init.xavier_uniform_(self.fc1.weight)   # 가중치 초기화\n",
        "\n",
        "        self.layer3 = torch.nn.Sequential(\n",
        "            self.fc1,\n",
        "            torch.nn.Tanh(),\n",
        "            torch.nn.Dropout(p=1 - self.keep_prob))\n",
        "        \n",
        "        # forth layer(fully-connected layer, 128 -> 10) \n",
        "        self.fc2 = torch.nn.Linear(128, 10, bias=True)\n",
        "        torch.nn.init.xavier_uniform_(self.fc2.weight)\n",
        "\n",
        "    def forward(self, x):\n",
        "        out = self.layer1(x)   # first layer 통과\n",
        "        out = self.layer2(out)   # second layer 통과\n",
        "        out = out.view(out.size(0), -1)   # fully-connected layer를 위해서 Flatten\n",
        "        out = self.layer3(out)   # third layer 통과\n",
        "        out = self.fc2(out)   # fourth layer 통과\n",
        "        return out"
      ],
      "metadata": {
        "id": "0x5dlI8YiDvR"
      },
      "execution_count": null,
      "outputs": []
    },
    {
      "cell_type": "code",
      "source": [
        "model4 = CNN().to(device)"
      ],
      "metadata": {
        "id": "omeqjhiviD6X"
      },
      "execution_count": null,
      "outputs": []
    },
    {
      "cell_type": "code",
      "source": [
        "# loss function과 optimizer를 정해봅시다.\n",
        "criterion = torch.nn.CrossEntropyLoss().to(device)   # loss function 정의\n",
        "optimizer = torch.optim.Adagrad(model4.parameters(), lr=learning_rate)   #optimizer 정의, Adagrad으로 설정"
      ],
      "metadata": {
        "id": "GPzoe3IDiEDL"
      },
      "execution_count": null,
      "outputs": []
    },
    {
      "cell_type": "code",
      "source": [
        "def training_model(model, data, epochs):\n",
        "  total_batch = len(data)\n",
        "\n",
        "  for epoch in range(epochs):\n",
        "    avg_cost = 0\n",
        "\n",
        "    for X, Y in data:  #data_loader에 배치들이 저장되어 있음. 한 iteration당 한 개의 배치를 꺼내와서 사용\n",
        "        X = X.to(device)   #이미지\n",
        "        Y = Y.to(device)   #레이블(해당 이미지가 뜻하는 숫자)\n",
        "\n",
        "        optimizer.zero_grad()   #지난 iteration에서 계산했던 기울기 초기화\n",
        "        hypothesis = model(X)   #순전파 과정으로 예측값 도출\n",
        "        cost = criterion(hypothesis, Y)   #예측값과 실제값을 비교한 loss\n",
        "        cost.backward()   #역전파, 기울기 계산\n",
        "        optimizer.step()   #optimizer로 가중치 갱신\n",
        "\n",
        "        avg_cost += cost / total_batch\n",
        "        \n",
        "    print('[Epoch: {:>4}] cost = {:>.9}'.format(epoch + 1, avg_cost))"
      ],
      "metadata": {
        "id": "47npPCl3iYdu"
      },
      "execution_count": null,
      "outputs": []
    },
    {
      "cell_type": "code",
      "source": [
        "# 모델을 학습시켜봅시다.\n",
        "training_model(model = model4, data = train_loader, epochs = training_epochs)"
      ],
      "metadata": {
        "id": "BVxFbrk5ipWG",
        "colab": {
          "base_uri": "https://localhost:8080/"
        },
        "outputId": "ddde70b6-0735-4711-c8be-07268e3227b1"
      },
      "execution_count": null,
      "outputs": [
        {
          "output_type": "stream",
          "name": "stdout",
          "text": [
            "[Epoch:    1] cost = 0.734832823\n",
            "[Epoch:    2] cost = 0.625704348\n",
            "[Epoch:    3] cost = 0.594213545\n",
            "[Epoch:    4] cost = 0.577165425\n",
            "[Epoch:    5] cost = 0.561981678\n",
            "[Epoch:    6] cost = 0.551044106\n",
            "[Epoch:    7] cost = 0.541154802\n",
            "[Epoch:    8] cost = 0.531361282\n",
            "[Epoch:    9] cost = 0.527243078\n",
            "[Epoch:   10] cost = 0.52305907\n",
            "[Epoch:   11] cost = 0.514600575\n",
            "[Epoch:   12] cost = 0.511136174\n",
            "[Epoch:   13] cost = 0.506769836\n",
            "[Epoch:   14] cost = 0.501660526\n",
            "[Epoch:   15] cost = 0.498465985\n"
          ]
        }
      ]
    },
    {
      "cell_type": "code",
      "source": [
        "# test 데이터를 사용하여 모델의 성능(정확도)을 확인해봅시다.\n",
        "\n",
        "correct = 0\n",
        "\n",
        "with torch.no_grad():\n",
        "    for data, target in test_loader:\n",
        "            data, target = data.to(device), target.to(device)\n",
        "            output = model4(data)\n",
        "            \n",
        "            pred = output.max(1, keepdim=True)[1]\n",
        "            # eq() 함수는 값이 일치하면 1을, 아니면 0을 출력.\n",
        "            correct += pred.eq(target.view_as(pred)).sum().item()\n",
        "\n",
        "    test_accuracy = correct / len(test_loader.dataset)\n",
        "    print('Accuracy:', test_accuracy)"
      ],
      "metadata": {
        "id": "ZhmmRzx-ipZ6",
        "colab": {
          "base_uri": "https://localhost:8080/"
        },
        "outputId": "d1dd357c-2114-42cb-be21-ddae4fa3d8d3"
      },
      "execution_count": null,
      "outputs": [
        {
          "output_type": "stream",
          "name": "stdout",
          "text": [
            "Accuracy: 0.8126\n"
          ]
        }
      ]
    },
    {
      "cell_type": "markdown",
      "source": [
        "# 모델5\n",
        "\n",
        "학습률 0.001 / 에폭 20 / 배치 사이즈 50\n",
        "\n",
        "드롭아웃 비율 0.6으로 변경\n",
        "\n",
        "배치정규화 추가\n",
        "\n",
        "optimizer Adam으로 설정"
      ],
      "metadata": {
        "id": "e7BlLGgW-m9X"
      }
    },
    {
      "cell_type": "code",
      "source": [
        "learning_rate = 0.001 # 가중치를 얼마나 크게 갱신할지 결정하는 학습률\n",
        "training_epochs = 20 # 반복학습의 횟수\n",
        "batch_size = 50 # 한 iteration에서 사용할 데이터 크기"
      ],
      "metadata": {
        "id": "AwFfz932ipdj"
      },
      "execution_count": null,
      "outputs": []
    },
    {
      "cell_type": "code",
      "source": [
        "train_loader = torch.utils.data.DataLoader(\n",
        "    dataset     = trainset,\n",
        "    batch_size  = batch_size,\n",
        "    shuffle     = True,\n",
        ")\n",
        "\n",
        "test_loader = torch.utils.data.DataLoader(\n",
        "    dataset     = testset,\n",
        "    batch_size  = batch_size,\n",
        "    shuffle     = True,\n",
        ")"
      ],
      "metadata": {
        "id": "4S0tjSI9-uDk"
      },
      "execution_count": null,
      "outputs": []
    },
    {
      "cell_type": "code",
      "source": [
        "class CNN(torch.nn.Module):\n",
        "\n",
        "    def __init__(self):\n",
        "        super(CNN, self).__init__()\n",
        "        self.keep_prob = 0.4 \n",
        "\n",
        "        # first layer (28*28*1->14*14*64) \n",
        "        self.layer1 = torch.nn.Sequential(\n",
        "            torch.nn.Conv2d(1, 64, kernel_size=3, stride=1, padding=1), # 1채널, 64채널\n",
        "            torch.nn.BatchNorm2d(64), # 배치정규화\n",
        "            torch.nn.Tanh(),\n",
        "            torch.nn.AvgPool2d(kernel_size=2, stride=2))\n",
        "        \n",
        "        # second layer (14*14*64->7*7*32)\n",
        "        self.layer2 = torch.nn.Sequential(\n",
        "            torch.nn.Conv2d(64, 32, kernel_size=3, stride=1, padding=1),\n",
        "            torch.nn.BatchNorm2d(32),\n",
        "            torch.nn.Tanh(),\n",
        "            torch.nn.AvgPool2d(kernel_size=2, stride=2))\n",
        "\n",
        "        # third layer(fully-connected layer, 7*7*32 -> 625)\n",
        "        self.fc1 = torch.nn.Linear(7 * 7 * 32, 625, bias=True)\n",
        "        torch.nn.init.xavier_uniform_(self.fc1.weight)   # 가중치 초기화\n",
        "\n",
        "        self.layer3 = torch.nn.Sequential(\n",
        "            self.fc1,\n",
        "            torch.nn.Tanh(),\n",
        "            torch.nn.Dropout(p=1 - self.keep_prob))\n",
        "        \n",
        "        # forth layer(fully-connected layer, 625 -> 10) \n",
        "        self.fc2 = torch.nn.Linear(625, 10, bias=True)\n",
        "        torch.nn.init.xavier_uniform_(self.fc2.weight)\n",
        "\n",
        "    def forward(self, x):\n",
        "        out = self.layer1(x)   # first layer 통과\n",
        "        out = self.layer2(out)   # second layer 통과\n",
        "        out = out.view(out.size(0), -1)   # fully-connected layer를 위해서 Flatten\n",
        "        out = self.layer3(out)   # third layer 통과\n",
        "        out = self.fc2(out)   # fourth layer 통과\n",
        "        return out"
      ],
      "metadata": {
        "id": "1BikHqD6-0bz"
      },
      "execution_count": 5,
      "outputs": []
    },
    {
      "cell_type": "code",
      "source": [
        "model5 = CNN().to(device)"
      ],
      "metadata": {
        "id": "Uhsz2XdW-0oU"
      },
      "execution_count": 11,
      "outputs": []
    },
    {
      "cell_type": "code",
      "source": [
        "# loss function과 optimizer를 정해봅시다.\n",
        "criterion = torch.nn.CrossEntropyLoss().to(device)   # loss function 정의\n",
        "optimizer = torch.optim.Adam(model5.parameters(), lr=learning_rate)   #optimizer 정의, Adam으로 설정"
      ],
      "metadata": {
        "id": "U1nmCgRM-0rT"
      },
      "execution_count": 12,
      "outputs": []
    },
    {
      "cell_type": "code",
      "source": [
        "# 모델을 학습시켜봅시다.\n",
        "training_model(model = model5, data = train_loader, epochs = training_epochs)"
      ],
      "metadata": {
        "colab": {
          "base_uri": "https://localhost:8080/"
        },
        "id": "Q0kWtJDy-0xm",
        "outputId": "0ebba0e7-5b68-47b6-9df4-ae7aa409c9df"
      },
      "execution_count": null,
      "outputs": [
        {
          "output_type": "stream",
          "name": "stdout",
          "text": [
            "[Epoch:    1] cost = 0.569609463\n",
            "[Epoch:    2] cost = 0.386559367\n",
            "[Epoch:    3] cost = 0.34604761\n",
            "[Epoch:    4] cost = 0.319106758\n",
            "[Epoch:    5] cost = 0.298578203\n",
            "[Epoch:    6] cost = 0.28658703\n",
            "[Epoch:    7] cost = 0.274032146\n",
            "[Epoch:    8] cost = 0.26293388\n",
            "[Epoch:    9] cost = 0.254580587\n",
            "[Epoch:   10] cost = 0.247358605\n",
            "[Epoch:   11] cost = 0.238408178\n",
            "[Epoch:   12] cost = 0.231786773\n",
            "[Epoch:   13] cost = 0.225344211\n",
            "[Epoch:   14] cost = 0.219386309\n",
            "[Epoch:   15] cost = 0.215875268\n",
            "[Epoch:   16] cost = 0.210189298\n",
            "[Epoch:   17] cost = 0.205320269\n",
            "[Epoch:   18] cost = 0.201146767\n",
            "[Epoch:   19] cost = 0.199703217\n",
            "[Epoch:   20] cost = 0.193369016\n"
          ]
        }
      ]
    },
    {
      "cell_type": "code",
      "source": [
        "# test 데이터를 사용하여 모델의 성능(정확도)을 확인해봅시다.\n",
        "\n",
        "correct = 0\n",
        "\n",
        "with torch.no_grad():\n",
        "    for data, target in test_loader:\n",
        "            data, target = data.to(device), target.to(device)\n",
        "            output = model5(data)\n",
        "            \n",
        "            pred = output.max(1, keepdim=True)[1]\n",
        "            # eq() 함수는 값이 일치하면 1을, 아니면 0을 출력.\n",
        "            correct += pred.eq(target.view_as(pred)).sum().item()\n",
        "\n",
        "    test_accuracy = correct / len(test_loader.dataset)\n",
        "    print('Accuracy:', test_accuracy)"
      ],
      "metadata": {
        "colab": {
          "base_uri": "https://localhost:8080/"
        },
        "id": "jBGdiLfv_WX6",
        "outputId": "8af3bc6b-efe5-494e-81c4-76bc74ea8493"
      },
      "execution_count": null,
      "outputs": [
        {
          "output_type": "stream",
          "name": "stdout",
          "text": [
            "Accuracy: 0.9029\n"
          ]
        }
      ]
    },
    {
      "cell_type": "markdown",
      "source": [
        "# 모델6\n",
        "\n",
        "에폭 50으로 높이기"
      ],
      "metadata": {
        "id": "CGvpMe9GWVrX"
      }
    },
    {
      "cell_type": "code",
      "source": [
        "learning_rate = 0.001 # 가중치를 얼마나 크게 갱신할지 결정하는 학습률\n",
        "training_epochs = 50 # 반복학습의 횟수\n",
        "batch_size = 50 # 한 iteration에서 사용할 데이터 크기"
      ],
      "metadata": {
        "id": "FnRAUw4QWTDT"
      },
      "execution_count": 7,
      "outputs": []
    },
    {
      "cell_type": "code",
      "source": [
        "train_loader = torch.utils.data.DataLoader(\n",
        "    dataset     = trainset,\n",
        "    batch_size  = batch_size,\n",
        "    shuffle     = True,\n",
        ")\n",
        "\n",
        "test_loader = torch.utils.data.DataLoader(\n",
        "    dataset     = testset,\n",
        "    batch_size  = batch_size,\n",
        "    shuffle     = True,\n",
        ")"
      ],
      "metadata": {
        "id": "19KEX-OSWvYZ"
      },
      "execution_count": 8,
      "outputs": []
    },
    {
      "cell_type": "code",
      "source": [
        "model6 = CNN().to(device)"
      ],
      "metadata": {
        "id": "rOI1LbFuWva-"
      },
      "execution_count": 13,
      "outputs": []
    },
    {
      "cell_type": "code",
      "source": [
        "# loss function과 optimizer를 정해봅시다.\n",
        "criterion = torch.nn.CrossEntropyLoss().to(device)   # loss function 정의\n",
        "optimizer = torch.optim.Adam(model6.parameters(), lr=learning_rate)   #optimizer 정의, Adam으로 설정"
      ],
      "metadata": {
        "id": "1muNgadVWvdN"
      },
      "execution_count": 14,
      "outputs": []
    },
    {
      "cell_type": "code",
      "source": [
        "# 모델을 학습시켜봅시다.\n",
        "training_model(model = model6, data = train_loader, epochs = training_epochs)"
      ],
      "metadata": {
        "colab": {
          "base_uri": "https://localhost:8080/"
        },
        "id": "KDYDxFQpWvgD",
        "outputId": "4c7a42d8-5dc2-4e37-c5c9-5e9690e10b64"
      },
      "execution_count": 16,
      "outputs": [
        {
          "output_type": "stream",
          "name": "stdout",
          "text": [
            "[Epoch:    1] cost = 0.544044614\n",
            "[Epoch:   11] cost = 0.231538415\n",
            "[Epoch:   21] cost = 0.182320371\n",
            "[Epoch:   31] cost = 0.147957921\n",
            "[Epoch:   41] cost = 0.123662099\n"
          ]
        }
      ]
    },
    {
      "cell_type": "code",
      "source": [
        "# test 데이터를 사용하여 모델의 성능(정확도)을 확인해봅시다.\n",
        "\n",
        "correct = 0\n",
        "\n",
        "with torch.no_grad():\n",
        "    for data, target in test_loader:\n",
        "            data, target = data.to(device), target.to(device)\n",
        "            output = model6(data)\n",
        "            \n",
        "            pred = output.max(1, keepdim=True)[1]\n",
        "            # eq() 함수는 값이 일치하면 1을, 아니면 0을 출력.\n",
        "            correct += pred.eq(target.view_as(pred)).sum().item()\n",
        "\n",
        "    test_accuracy = correct / len(test_loader.dataset)\n",
        "    print('Accuracy:', test_accuracy)"
      ],
      "metadata": {
        "colab": {
          "base_uri": "https://localhost:8080/"
        },
        "id": "KuNzrz7-Xpdu",
        "outputId": "4a13e1f2-12db-4e6b-95da-34c51f1fc0e3"
      },
      "execution_count": 18,
      "outputs": [
        {
          "output_type": "stream",
          "name": "stdout",
          "text": [
            "Accuracy: 0.9096\n"
          ]
        }
      ]
    },
    {
      "cell_type": "code",
      "source": [
        ""
      ],
      "metadata": {
        "id": "RzH3lhxnyB_O"
      },
      "execution_count": null,
      "outputs": []
    }
  ],
  "metadata": {
    "colab": {
      "name": "4주차 지후.ipynb",
      "provenance": [],
      "collapsed_sections": []
    },
    "kernelspec": {
      "display_name": "Python 3",
      "name": "python3"
    },
    "language_info": {
      "name": "python"
    },
    "widgets": {
      "application/vnd.jupyter.widget-state+json": {
        "8003c62600b543d48869114e674efc10": {
          "model_module": "@jupyter-widgets/controls",
          "model_name": "HBoxModel",
          "model_module_version": "1.5.0",
          "state": {
            "_view_name": "HBoxView",
            "_dom_classes": [],
            "_model_name": "HBoxModel",
            "_view_module": "@jupyter-widgets/controls",
            "_model_module_version": "1.5.0",
            "_view_count": null,
            "_view_module_version": "1.5.0",
            "box_style": "",
            "layout": "IPY_MODEL_0d2ba91c4e664010a4edd74599e65e6d",
            "_model_module": "@jupyter-widgets/controls",
            "children": [
              "IPY_MODEL_2021aba8c81742659c35b77327227950",
              "IPY_MODEL_1830019a68f84e16be51457a540dd54b",
              "IPY_MODEL_16868f51e66d44c687cc847cbb08bb1f"
            ]
          }
        },
        "0d2ba91c4e664010a4edd74599e65e6d": {
          "model_module": "@jupyter-widgets/base",
          "model_name": "LayoutModel",
          "model_module_version": "1.2.0",
          "state": {
            "_view_name": "LayoutView",
            "grid_template_rows": null,
            "right": null,
            "justify_content": null,
            "_view_module": "@jupyter-widgets/base",
            "overflow": null,
            "_model_module_version": "1.2.0",
            "_view_count": null,
            "flex_flow": null,
            "width": null,
            "min_width": null,
            "border": null,
            "align_items": null,
            "bottom": null,
            "_model_module": "@jupyter-widgets/base",
            "top": null,
            "grid_column": null,
            "overflow_y": null,
            "overflow_x": null,
            "grid_auto_flow": null,
            "grid_area": null,
            "grid_template_columns": null,
            "flex": null,
            "_model_name": "LayoutModel",
            "justify_items": null,
            "grid_row": null,
            "max_height": null,
            "align_content": null,
            "visibility": null,
            "align_self": null,
            "height": null,
            "min_height": null,
            "padding": null,
            "grid_auto_rows": null,
            "grid_gap": null,
            "max_width": null,
            "order": null,
            "_view_module_version": "1.2.0",
            "grid_template_areas": null,
            "object_position": null,
            "object_fit": null,
            "grid_auto_columns": null,
            "margin": null,
            "display": null,
            "left": null
          }
        },
        "2021aba8c81742659c35b77327227950": {
          "model_module": "@jupyter-widgets/controls",
          "model_name": "HTMLModel",
          "model_module_version": "1.5.0",
          "state": {
            "_view_name": "HTMLView",
            "style": "IPY_MODEL_7650714a7cab4047a451a0460e741f65",
            "_dom_classes": [],
            "description": "",
            "_model_name": "HTMLModel",
            "placeholder": "​",
            "_view_module": "@jupyter-widgets/controls",
            "_model_module_version": "1.5.0",
            "value": "",
            "_view_count": null,
            "_view_module_version": "1.5.0",
            "description_tooltip": null,
            "_model_module": "@jupyter-widgets/controls",
            "layout": "IPY_MODEL_6bbf07525ffb4c89bffbbd1728f1a80d"
          }
        },
        "1830019a68f84e16be51457a540dd54b": {
          "model_module": "@jupyter-widgets/controls",
          "model_name": "FloatProgressModel",
          "model_module_version": "1.5.0",
          "state": {
            "_view_name": "ProgressView",
            "style": "IPY_MODEL_59e07ba741d44e7d98e41a8d33aa18cd",
            "_dom_classes": [],
            "description": "",
            "_model_name": "FloatProgressModel",
            "bar_style": "success",
            "max": 26421880,
            "_view_module": "@jupyter-widgets/controls",
            "_model_module_version": "1.5.0",
            "value": 26421880,
            "_view_count": null,
            "_view_module_version": "1.5.0",
            "orientation": "horizontal",
            "min": 0,
            "description_tooltip": null,
            "_model_module": "@jupyter-widgets/controls",
            "layout": "IPY_MODEL_65b9082f3d64499e9a37c3ad5a7657e7"
          }
        },
        "16868f51e66d44c687cc847cbb08bb1f": {
          "model_module": "@jupyter-widgets/controls",
          "model_name": "HTMLModel",
          "model_module_version": "1.5.0",
          "state": {
            "_view_name": "HTMLView",
            "style": "IPY_MODEL_e0b54e6721794997926ac6f993aa62e6",
            "_dom_classes": [],
            "description": "",
            "_model_name": "HTMLModel",
            "placeholder": "​",
            "_view_module": "@jupyter-widgets/controls",
            "_model_module_version": "1.5.0",
            "value": " 26422272/? [00:01&lt;00:00, 27165019.20it/s]",
            "_view_count": null,
            "_view_module_version": "1.5.0",
            "description_tooltip": null,
            "_model_module": "@jupyter-widgets/controls",
            "layout": "IPY_MODEL_42c24896d82941a9b56ae35e019e4f9f"
          }
        },
        "7650714a7cab4047a451a0460e741f65": {
          "model_module": "@jupyter-widgets/controls",
          "model_name": "DescriptionStyleModel",
          "model_module_version": "1.5.0",
          "state": {
            "_view_name": "StyleView",
            "_model_name": "DescriptionStyleModel",
            "description_width": "",
            "_view_module": "@jupyter-widgets/base",
            "_model_module_version": "1.5.0",
            "_view_count": null,
            "_view_module_version": "1.2.0",
            "_model_module": "@jupyter-widgets/controls"
          }
        },
        "6bbf07525ffb4c89bffbbd1728f1a80d": {
          "model_module": "@jupyter-widgets/base",
          "model_name": "LayoutModel",
          "model_module_version": "1.2.0",
          "state": {
            "_view_name": "LayoutView",
            "grid_template_rows": null,
            "right": null,
            "justify_content": null,
            "_view_module": "@jupyter-widgets/base",
            "overflow": null,
            "_model_module_version": "1.2.0",
            "_view_count": null,
            "flex_flow": null,
            "width": null,
            "min_width": null,
            "border": null,
            "align_items": null,
            "bottom": null,
            "_model_module": "@jupyter-widgets/base",
            "top": null,
            "grid_column": null,
            "overflow_y": null,
            "overflow_x": null,
            "grid_auto_flow": null,
            "grid_area": null,
            "grid_template_columns": null,
            "flex": null,
            "_model_name": "LayoutModel",
            "justify_items": null,
            "grid_row": null,
            "max_height": null,
            "align_content": null,
            "visibility": null,
            "align_self": null,
            "height": null,
            "min_height": null,
            "padding": null,
            "grid_auto_rows": null,
            "grid_gap": null,
            "max_width": null,
            "order": null,
            "_view_module_version": "1.2.0",
            "grid_template_areas": null,
            "object_position": null,
            "object_fit": null,
            "grid_auto_columns": null,
            "margin": null,
            "display": null,
            "left": null
          }
        },
        "59e07ba741d44e7d98e41a8d33aa18cd": {
          "model_module": "@jupyter-widgets/controls",
          "model_name": "ProgressStyleModel",
          "model_module_version": "1.5.0",
          "state": {
            "_view_name": "StyleView",
            "_model_name": "ProgressStyleModel",
            "description_width": "",
            "_view_module": "@jupyter-widgets/base",
            "_model_module_version": "1.5.0",
            "_view_count": null,
            "_view_module_version": "1.2.0",
            "bar_color": null,
            "_model_module": "@jupyter-widgets/controls"
          }
        },
        "65b9082f3d64499e9a37c3ad5a7657e7": {
          "model_module": "@jupyter-widgets/base",
          "model_name": "LayoutModel",
          "model_module_version": "1.2.0",
          "state": {
            "_view_name": "LayoutView",
            "grid_template_rows": null,
            "right": null,
            "justify_content": null,
            "_view_module": "@jupyter-widgets/base",
            "overflow": null,
            "_model_module_version": "1.2.0",
            "_view_count": null,
            "flex_flow": null,
            "width": null,
            "min_width": null,
            "border": null,
            "align_items": null,
            "bottom": null,
            "_model_module": "@jupyter-widgets/base",
            "top": null,
            "grid_column": null,
            "overflow_y": null,
            "overflow_x": null,
            "grid_auto_flow": null,
            "grid_area": null,
            "grid_template_columns": null,
            "flex": null,
            "_model_name": "LayoutModel",
            "justify_items": null,
            "grid_row": null,
            "max_height": null,
            "align_content": null,
            "visibility": null,
            "align_self": null,
            "height": null,
            "min_height": null,
            "padding": null,
            "grid_auto_rows": null,
            "grid_gap": null,
            "max_width": null,
            "order": null,
            "_view_module_version": "1.2.0",
            "grid_template_areas": null,
            "object_position": null,
            "object_fit": null,
            "grid_auto_columns": null,
            "margin": null,
            "display": null,
            "left": null
          }
        },
        "e0b54e6721794997926ac6f993aa62e6": {
          "model_module": "@jupyter-widgets/controls",
          "model_name": "DescriptionStyleModel",
          "model_module_version": "1.5.0",
          "state": {
            "_view_name": "StyleView",
            "_model_name": "DescriptionStyleModel",
            "description_width": "",
            "_view_module": "@jupyter-widgets/base",
            "_model_module_version": "1.5.0",
            "_view_count": null,
            "_view_module_version": "1.2.0",
            "_model_module": "@jupyter-widgets/controls"
          }
        },
        "42c24896d82941a9b56ae35e019e4f9f": {
          "model_module": "@jupyter-widgets/base",
          "model_name": "LayoutModel",
          "model_module_version": "1.2.0",
          "state": {
            "_view_name": "LayoutView",
            "grid_template_rows": null,
            "right": null,
            "justify_content": null,
            "_view_module": "@jupyter-widgets/base",
            "overflow": null,
            "_model_module_version": "1.2.0",
            "_view_count": null,
            "flex_flow": null,
            "width": null,
            "min_width": null,
            "border": null,
            "align_items": null,
            "bottom": null,
            "_model_module": "@jupyter-widgets/base",
            "top": null,
            "grid_column": null,
            "overflow_y": null,
            "overflow_x": null,
            "grid_auto_flow": null,
            "grid_area": null,
            "grid_template_columns": null,
            "flex": null,
            "_model_name": "LayoutModel",
            "justify_items": null,
            "grid_row": null,
            "max_height": null,
            "align_content": null,
            "visibility": null,
            "align_self": null,
            "height": null,
            "min_height": null,
            "padding": null,
            "grid_auto_rows": null,
            "grid_gap": null,
            "max_width": null,
            "order": null,
            "_view_module_version": "1.2.0",
            "grid_template_areas": null,
            "object_position": null,
            "object_fit": null,
            "grid_auto_columns": null,
            "margin": null,
            "display": null,
            "left": null
          }
        },
        "87e573250bf14fbfa24ec9ecbde78eba": {
          "model_module": "@jupyter-widgets/controls",
          "model_name": "HBoxModel",
          "model_module_version": "1.5.0",
          "state": {
            "_view_name": "HBoxView",
            "_dom_classes": [],
            "_model_name": "HBoxModel",
            "_view_module": "@jupyter-widgets/controls",
            "_model_module_version": "1.5.0",
            "_view_count": null,
            "_view_module_version": "1.5.0",
            "box_style": "",
            "layout": "IPY_MODEL_ebaf79c550544bd7819b6d98ae651b1d",
            "_model_module": "@jupyter-widgets/controls",
            "children": [
              "IPY_MODEL_a87e8d836f2d473593c5d71200225c11",
              "IPY_MODEL_f90b25b8c5ef4f8989b41d2f894f5037",
              "IPY_MODEL_0d84b984a3684271846c957921b3f1b2"
            ]
          }
        },
        "ebaf79c550544bd7819b6d98ae651b1d": {
          "model_module": "@jupyter-widgets/base",
          "model_name": "LayoutModel",
          "model_module_version": "1.2.0",
          "state": {
            "_view_name": "LayoutView",
            "grid_template_rows": null,
            "right": null,
            "justify_content": null,
            "_view_module": "@jupyter-widgets/base",
            "overflow": null,
            "_model_module_version": "1.2.0",
            "_view_count": null,
            "flex_flow": null,
            "width": null,
            "min_width": null,
            "border": null,
            "align_items": null,
            "bottom": null,
            "_model_module": "@jupyter-widgets/base",
            "top": null,
            "grid_column": null,
            "overflow_y": null,
            "overflow_x": null,
            "grid_auto_flow": null,
            "grid_area": null,
            "grid_template_columns": null,
            "flex": null,
            "_model_name": "LayoutModel",
            "justify_items": null,
            "grid_row": null,
            "max_height": null,
            "align_content": null,
            "visibility": null,
            "align_self": null,
            "height": null,
            "min_height": null,
            "padding": null,
            "grid_auto_rows": null,
            "grid_gap": null,
            "max_width": null,
            "order": null,
            "_view_module_version": "1.2.0",
            "grid_template_areas": null,
            "object_position": null,
            "object_fit": null,
            "grid_auto_columns": null,
            "margin": null,
            "display": null,
            "left": null
          }
        },
        "a87e8d836f2d473593c5d71200225c11": {
          "model_module": "@jupyter-widgets/controls",
          "model_name": "HTMLModel",
          "model_module_version": "1.5.0",
          "state": {
            "_view_name": "HTMLView",
            "style": "IPY_MODEL_e74a7a1766f9463c8ae6c407265746bf",
            "_dom_classes": [],
            "description": "",
            "_model_name": "HTMLModel",
            "placeholder": "​",
            "_view_module": "@jupyter-widgets/controls",
            "_model_module_version": "1.5.0",
            "value": "",
            "_view_count": null,
            "_view_module_version": "1.5.0",
            "description_tooltip": null,
            "_model_module": "@jupyter-widgets/controls",
            "layout": "IPY_MODEL_fa1e979e2b3141fa99fd6f6b0972e178"
          }
        },
        "f90b25b8c5ef4f8989b41d2f894f5037": {
          "model_module": "@jupyter-widgets/controls",
          "model_name": "FloatProgressModel",
          "model_module_version": "1.5.0",
          "state": {
            "_view_name": "ProgressView",
            "style": "IPY_MODEL_0e9cf4fe7f6442aeb7537ed5e3275448",
            "_dom_classes": [],
            "description": "",
            "_model_name": "FloatProgressModel",
            "bar_style": "success",
            "max": 29515,
            "_view_module": "@jupyter-widgets/controls",
            "_model_module_version": "1.5.0",
            "value": 29515,
            "_view_count": null,
            "_view_module_version": "1.5.0",
            "orientation": "horizontal",
            "min": 0,
            "description_tooltip": null,
            "_model_module": "@jupyter-widgets/controls",
            "layout": "IPY_MODEL_369daf8c818b45199688961780129aa1"
          }
        },
        "0d84b984a3684271846c957921b3f1b2": {
          "model_module": "@jupyter-widgets/controls",
          "model_name": "HTMLModel",
          "model_module_version": "1.5.0",
          "state": {
            "_view_name": "HTMLView",
            "style": "IPY_MODEL_0f2412593b324be29ed79b6e49fc5db6",
            "_dom_classes": [],
            "description": "",
            "_model_name": "HTMLModel",
            "placeholder": "​",
            "_view_module": "@jupyter-widgets/controls",
            "_model_module_version": "1.5.0",
            "value": " 29696/? [00:00&lt;00:00, 314152.02it/s]",
            "_view_count": null,
            "_view_module_version": "1.5.0",
            "description_tooltip": null,
            "_model_module": "@jupyter-widgets/controls",
            "layout": "IPY_MODEL_f803c8293d034a599e3a0be04d782a99"
          }
        },
        "e74a7a1766f9463c8ae6c407265746bf": {
          "model_module": "@jupyter-widgets/controls",
          "model_name": "DescriptionStyleModel",
          "model_module_version": "1.5.0",
          "state": {
            "_view_name": "StyleView",
            "_model_name": "DescriptionStyleModel",
            "description_width": "",
            "_view_module": "@jupyter-widgets/base",
            "_model_module_version": "1.5.0",
            "_view_count": null,
            "_view_module_version": "1.2.0",
            "_model_module": "@jupyter-widgets/controls"
          }
        },
        "fa1e979e2b3141fa99fd6f6b0972e178": {
          "model_module": "@jupyter-widgets/base",
          "model_name": "LayoutModel",
          "model_module_version": "1.2.0",
          "state": {
            "_view_name": "LayoutView",
            "grid_template_rows": null,
            "right": null,
            "justify_content": null,
            "_view_module": "@jupyter-widgets/base",
            "overflow": null,
            "_model_module_version": "1.2.0",
            "_view_count": null,
            "flex_flow": null,
            "width": null,
            "min_width": null,
            "border": null,
            "align_items": null,
            "bottom": null,
            "_model_module": "@jupyter-widgets/base",
            "top": null,
            "grid_column": null,
            "overflow_y": null,
            "overflow_x": null,
            "grid_auto_flow": null,
            "grid_area": null,
            "grid_template_columns": null,
            "flex": null,
            "_model_name": "LayoutModel",
            "justify_items": null,
            "grid_row": null,
            "max_height": null,
            "align_content": null,
            "visibility": null,
            "align_self": null,
            "height": null,
            "min_height": null,
            "padding": null,
            "grid_auto_rows": null,
            "grid_gap": null,
            "max_width": null,
            "order": null,
            "_view_module_version": "1.2.0",
            "grid_template_areas": null,
            "object_position": null,
            "object_fit": null,
            "grid_auto_columns": null,
            "margin": null,
            "display": null,
            "left": null
          }
        },
        "0e9cf4fe7f6442aeb7537ed5e3275448": {
          "model_module": "@jupyter-widgets/controls",
          "model_name": "ProgressStyleModel",
          "model_module_version": "1.5.0",
          "state": {
            "_view_name": "StyleView",
            "_model_name": "ProgressStyleModel",
            "description_width": "",
            "_view_module": "@jupyter-widgets/base",
            "_model_module_version": "1.5.0",
            "_view_count": null,
            "_view_module_version": "1.2.0",
            "bar_color": null,
            "_model_module": "@jupyter-widgets/controls"
          }
        },
        "369daf8c818b45199688961780129aa1": {
          "model_module": "@jupyter-widgets/base",
          "model_name": "LayoutModel",
          "model_module_version": "1.2.0",
          "state": {
            "_view_name": "LayoutView",
            "grid_template_rows": null,
            "right": null,
            "justify_content": null,
            "_view_module": "@jupyter-widgets/base",
            "overflow": null,
            "_model_module_version": "1.2.0",
            "_view_count": null,
            "flex_flow": null,
            "width": null,
            "min_width": null,
            "border": null,
            "align_items": null,
            "bottom": null,
            "_model_module": "@jupyter-widgets/base",
            "top": null,
            "grid_column": null,
            "overflow_y": null,
            "overflow_x": null,
            "grid_auto_flow": null,
            "grid_area": null,
            "grid_template_columns": null,
            "flex": null,
            "_model_name": "LayoutModel",
            "justify_items": null,
            "grid_row": null,
            "max_height": null,
            "align_content": null,
            "visibility": null,
            "align_self": null,
            "height": null,
            "min_height": null,
            "padding": null,
            "grid_auto_rows": null,
            "grid_gap": null,
            "max_width": null,
            "order": null,
            "_view_module_version": "1.2.0",
            "grid_template_areas": null,
            "object_position": null,
            "object_fit": null,
            "grid_auto_columns": null,
            "margin": null,
            "display": null,
            "left": null
          }
        },
        "0f2412593b324be29ed79b6e49fc5db6": {
          "model_module": "@jupyter-widgets/controls",
          "model_name": "DescriptionStyleModel",
          "model_module_version": "1.5.0",
          "state": {
            "_view_name": "StyleView",
            "_model_name": "DescriptionStyleModel",
            "description_width": "",
            "_view_module": "@jupyter-widgets/base",
            "_model_module_version": "1.5.0",
            "_view_count": null,
            "_view_module_version": "1.2.0",
            "_model_module": "@jupyter-widgets/controls"
          }
        },
        "f803c8293d034a599e3a0be04d782a99": {
          "model_module": "@jupyter-widgets/base",
          "model_name": "LayoutModel",
          "model_module_version": "1.2.0",
          "state": {
            "_view_name": "LayoutView",
            "grid_template_rows": null,
            "right": null,
            "justify_content": null,
            "_view_module": "@jupyter-widgets/base",
            "overflow": null,
            "_model_module_version": "1.2.0",
            "_view_count": null,
            "flex_flow": null,
            "width": null,
            "min_width": null,
            "border": null,
            "align_items": null,
            "bottom": null,
            "_model_module": "@jupyter-widgets/base",
            "top": null,
            "grid_column": null,
            "overflow_y": null,
            "overflow_x": null,
            "grid_auto_flow": null,
            "grid_area": null,
            "grid_template_columns": null,
            "flex": null,
            "_model_name": "LayoutModel",
            "justify_items": null,
            "grid_row": null,
            "max_height": null,
            "align_content": null,
            "visibility": null,
            "align_self": null,
            "height": null,
            "min_height": null,
            "padding": null,
            "grid_auto_rows": null,
            "grid_gap": null,
            "max_width": null,
            "order": null,
            "_view_module_version": "1.2.0",
            "grid_template_areas": null,
            "object_position": null,
            "object_fit": null,
            "grid_auto_columns": null,
            "margin": null,
            "display": null,
            "left": null
          }
        },
        "72d4691b8fae418a99c00d464928b71f": {
          "model_module": "@jupyter-widgets/controls",
          "model_name": "HBoxModel",
          "model_module_version": "1.5.0",
          "state": {
            "_view_name": "HBoxView",
            "_dom_classes": [],
            "_model_name": "HBoxModel",
            "_view_module": "@jupyter-widgets/controls",
            "_model_module_version": "1.5.0",
            "_view_count": null,
            "_view_module_version": "1.5.0",
            "box_style": "",
            "layout": "IPY_MODEL_89ed7c63c4244c0aaec01fe54f80847f",
            "_model_module": "@jupyter-widgets/controls",
            "children": [
              "IPY_MODEL_406f74e6a0a74662b233554e714b37d5",
              "IPY_MODEL_b5c9c39e79ab48ebb0c1a3b96f7b9a60",
              "IPY_MODEL_068066f64796441ba96d4f350eda7d7f"
            ]
          }
        },
        "89ed7c63c4244c0aaec01fe54f80847f": {
          "model_module": "@jupyter-widgets/base",
          "model_name": "LayoutModel",
          "model_module_version": "1.2.0",
          "state": {
            "_view_name": "LayoutView",
            "grid_template_rows": null,
            "right": null,
            "justify_content": null,
            "_view_module": "@jupyter-widgets/base",
            "overflow": null,
            "_model_module_version": "1.2.0",
            "_view_count": null,
            "flex_flow": null,
            "width": null,
            "min_width": null,
            "border": null,
            "align_items": null,
            "bottom": null,
            "_model_module": "@jupyter-widgets/base",
            "top": null,
            "grid_column": null,
            "overflow_y": null,
            "overflow_x": null,
            "grid_auto_flow": null,
            "grid_area": null,
            "grid_template_columns": null,
            "flex": null,
            "_model_name": "LayoutModel",
            "justify_items": null,
            "grid_row": null,
            "max_height": null,
            "align_content": null,
            "visibility": null,
            "align_self": null,
            "height": null,
            "min_height": null,
            "padding": null,
            "grid_auto_rows": null,
            "grid_gap": null,
            "max_width": null,
            "order": null,
            "_view_module_version": "1.2.0",
            "grid_template_areas": null,
            "object_position": null,
            "object_fit": null,
            "grid_auto_columns": null,
            "margin": null,
            "display": null,
            "left": null
          }
        },
        "406f74e6a0a74662b233554e714b37d5": {
          "model_module": "@jupyter-widgets/controls",
          "model_name": "HTMLModel",
          "model_module_version": "1.5.0",
          "state": {
            "_view_name": "HTMLView",
            "style": "IPY_MODEL_c6c0e8f694314cd6bcdfb7d7906e6653",
            "_dom_classes": [],
            "description": "",
            "_model_name": "HTMLModel",
            "placeholder": "​",
            "_view_module": "@jupyter-widgets/controls",
            "_model_module_version": "1.5.0",
            "value": "",
            "_view_count": null,
            "_view_module_version": "1.5.0",
            "description_tooltip": null,
            "_model_module": "@jupyter-widgets/controls",
            "layout": "IPY_MODEL_ed0e2752a8f14b74a6e8b73abae73cbe"
          }
        },
        "b5c9c39e79ab48ebb0c1a3b96f7b9a60": {
          "model_module": "@jupyter-widgets/controls",
          "model_name": "FloatProgressModel",
          "model_module_version": "1.5.0",
          "state": {
            "_view_name": "ProgressView",
            "style": "IPY_MODEL_7fee55fe093d45a883f18a33ceb04d14",
            "_dom_classes": [],
            "description": "",
            "_model_name": "FloatProgressModel",
            "bar_style": "success",
            "max": 4422102,
            "_view_module": "@jupyter-widgets/controls",
            "_model_module_version": "1.5.0",
            "value": 4422102,
            "_view_count": null,
            "_view_module_version": "1.5.0",
            "orientation": "horizontal",
            "min": 0,
            "description_tooltip": null,
            "_model_module": "@jupyter-widgets/controls",
            "layout": "IPY_MODEL_9388495995264df0b0a1062122b488b4"
          }
        },
        "068066f64796441ba96d4f350eda7d7f": {
          "model_module": "@jupyter-widgets/controls",
          "model_name": "HTMLModel",
          "model_module_version": "1.5.0",
          "state": {
            "_view_name": "HTMLView",
            "style": "IPY_MODEL_eb31b96e823a4242a57334f1a62e0151",
            "_dom_classes": [],
            "description": "",
            "_model_name": "HTMLModel",
            "placeholder": "​",
            "_view_module": "@jupyter-widgets/controls",
            "_model_module_version": "1.5.0",
            "value": " 4422656/? [00:00&lt;00:00, 5450553.57it/s]",
            "_view_count": null,
            "_view_module_version": "1.5.0",
            "description_tooltip": null,
            "_model_module": "@jupyter-widgets/controls",
            "layout": "IPY_MODEL_18d47899a6fd4d0ca659257b64aa9c79"
          }
        },
        "c6c0e8f694314cd6bcdfb7d7906e6653": {
          "model_module": "@jupyter-widgets/controls",
          "model_name": "DescriptionStyleModel",
          "model_module_version": "1.5.0",
          "state": {
            "_view_name": "StyleView",
            "_model_name": "DescriptionStyleModel",
            "description_width": "",
            "_view_module": "@jupyter-widgets/base",
            "_model_module_version": "1.5.0",
            "_view_count": null,
            "_view_module_version": "1.2.0",
            "_model_module": "@jupyter-widgets/controls"
          }
        },
        "ed0e2752a8f14b74a6e8b73abae73cbe": {
          "model_module": "@jupyter-widgets/base",
          "model_name": "LayoutModel",
          "model_module_version": "1.2.0",
          "state": {
            "_view_name": "LayoutView",
            "grid_template_rows": null,
            "right": null,
            "justify_content": null,
            "_view_module": "@jupyter-widgets/base",
            "overflow": null,
            "_model_module_version": "1.2.0",
            "_view_count": null,
            "flex_flow": null,
            "width": null,
            "min_width": null,
            "border": null,
            "align_items": null,
            "bottom": null,
            "_model_module": "@jupyter-widgets/base",
            "top": null,
            "grid_column": null,
            "overflow_y": null,
            "overflow_x": null,
            "grid_auto_flow": null,
            "grid_area": null,
            "grid_template_columns": null,
            "flex": null,
            "_model_name": "LayoutModel",
            "justify_items": null,
            "grid_row": null,
            "max_height": null,
            "align_content": null,
            "visibility": null,
            "align_self": null,
            "height": null,
            "min_height": null,
            "padding": null,
            "grid_auto_rows": null,
            "grid_gap": null,
            "max_width": null,
            "order": null,
            "_view_module_version": "1.2.0",
            "grid_template_areas": null,
            "object_position": null,
            "object_fit": null,
            "grid_auto_columns": null,
            "margin": null,
            "display": null,
            "left": null
          }
        },
        "7fee55fe093d45a883f18a33ceb04d14": {
          "model_module": "@jupyter-widgets/controls",
          "model_name": "ProgressStyleModel",
          "model_module_version": "1.5.0",
          "state": {
            "_view_name": "StyleView",
            "_model_name": "ProgressStyleModel",
            "description_width": "",
            "_view_module": "@jupyter-widgets/base",
            "_model_module_version": "1.5.0",
            "_view_count": null,
            "_view_module_version": "1.2.0",
            "bar_color": null,
            "_model_module": "@jupyter-widgets/controls"
          }
        },
        "9388495995264df0b0a1062122b488b4": {
          "model_module": "@jupyter-widgets/base",
          "model_name": "LayoutModel",
          "model_module_version": "1.2.0",
          "state": {
            "_view_name": "LayoutView",
            "grid_template_rows": null,
            "right": null,
            "justify_content": null,
            "_view_module": "@jupyter-widgets/base",
            "overflow": null,
            "_model_module_version": "1.2.0",
            "_view_count": null,
            "flex_flow": null,
            "width": null,
            "min_width": null,
            "border": null,
            "align_items": null,
            "bottom": null,
            "_model_module": "@jupyter-widgets/base",
            "top": null,
            "grid_column": null,
            "overflow_y": null,
            "overflow_x": null,
            "grid_auto_flow": null,
            "grid_area": null,
            "grid_template_columns": null,
            "flex": null,
            "_model_name": "LayoutModel",
            "justify_items": null,
            "grid_row": null,
            "max_height": null,
            "align_content": null,
            "visibility": null,
            "align_self": null,
            "height": null,
            "min_height": null,
            "padding": null,
            "grid_auto_rows": null,
            "grid_gap": null,
            "max_width": null,
            "order": null,
            "_view_module_version": "1.2.0",
            "grid_template_areas": null,
            "object_position": null,
            "object_fit": null,
            "grid_auto_columns": null,
            "margin": null,
            "display": null,
            "left": null
          }
        },
        "eb31b96e823a4242a57334f1a62e0151": {
          "model_module": "@jupyter-widgets/controls",
          "model_name": "DescriptionStyleModel",
          "model_module_version": "1.5.0",
          "state": {
            "_view_name": "StyleView",
            "_model_name": "DescriptionStyleModel",
            "description_width": "",
            "_view_module": "@jupyter-widgets/base",
            "_model_module_version": "1.5.0",
            "_view_count": null,
            "_view_module_version": "1.2.0",
            "_model_module": "@jupyter-widgets/controls"
          }
        },
        "18d47899a6fd4d0ca659257b64aa9c79": {
          "model_module": "@jupyter-widgets/base",
          "model_name": "LayoutModel",
          "model_module_version": "1.2.0",
          "state": {
            "_view_name": "LayoutView",
            "grid_template_rows": null,
            "right": null,
            "justify_content": null,
            "_view_module": "@jupyter-widgets/base",
            "overflow": null,
            "_model_module_version": "1.2.0",
            "_view_count": null,
            "flex_flow": null,
            "width": null,
            "min_width": null,
            "border": null,
            "align_items": null,
            "bottom": null,
            "_model_module": "@jupyter-widgets/base",
            "top": null,
            "grid_column": null,
            "overflow_y": null,
            "overflow_x": null,
            "grid_auto_flow": null,
            "grid_area": null,
            "grid_template_columns": null,
            "flex": null,
            "_model_name": "LayoutModel",
            "justify_items": null,
            "grid_row": null,
            "max_height": null,
            "align_content": null,
            "visibility": null,
            "align_self": null,
            "height": null,
            "min_height": null,
            "padding": null,
            "grid_auto_rows": null,
            "grid_gap": null,
            "max_width": null,
            "order": null,
            "_view_module_version": "1.2.0",
            "grid_template_areas": null,
            "object_position": null,
            "object_fit": null,
            "grid_auto_columns": null,
            "margin": null,
            "display": null,
            "left": null
          }
        },
        "dc89d161ec7144698e5dbf700433ceb6": {
          "model_module": "@jupyter-widgets/controls",
          "model_name": "HBoxModel",
          "model_module_version": "1.5.0",
          "state": {
            "_view_name": "HBoxView",
            "_dom_classes": [],
            "_model_name": "HBoxModel",
            "_view_module": "@jupyter-widgets/controls",
            "_model_module_version": "1.5.0",
            "_view_count": null,
            "_view_module_version": "1.5.0",
            "box_style": "",
            "layout": "IPY_MODEL_cdab451099c5494aaaa73d3ccdb98e4b",
            "_model_module": "@jupyter-widgets/controls",
            "children": [
              "IPY_MODEL_2674c546405c47b8bfc5815a5e70abe4",
              "IPY_MODEL_a7a370c9f41a4b34bf7eda3d22dc5201",
              "IPY_MODEL_8d29a18285834b1ab9a4ce5410044861"
            ]
          }
        },
        "cdab451099c5494aaaa73d3ccdb98e4b": {
          "model_module": "@jupyter-widgets/base",
          "model_name": "LayoutModel",
          "model_module_version": "1.2.0",
          "state": {
            "_view_name": "LayoutView",
            "grid_template_rows": null,
            "right": null,
            "justify_content": null,
            "_view_module": "@jupyter-widgets/base",
            "overflow": null,
            "_model_module_version": "1.2.0",
            "_view_count": null,
            "flex_flow": null,
            "width": null,
            "min_width": null,
            "border": null,
            "align_items": null,
            "bottom": null,
            "_model_module": "@jupyter-widgets/base",
            "top": null,
            "grid_column": null,
            "overflow_y": null,
            "overflow_x": null,
            "grid_auto_flow": null,
            "grid_area": null,
            "grid_template_columns": null,
            "flex": null,
            "_model_name": "LayoutModel",
            "justify_items": null,
            "grid_row": null,
            "max_height": null,
            "align_content": null,
            "visibility": null,
            "align_self": null,
            "height": null,
            "min_height": null,
            "padding": null,
            "grid_auto_rows": null,
            "grid_gap": null,
            "max_width": null,
            "order": null,
            "_view_module_version": "1.2.0",
            "grid_template_areas": null,
            "object_position": null,
            "object_fit": null,
            "grid_auto_columns": null,
            "margin": null,
            "display": null,
            "left": null
          }
        },
        "2674c546405c47b8bfc5815a5e70abe4": {
          "model_module": "@jupyter-widgets/controls",
          "model_name": "HTMLModel",
          "model_module_version": "1.5.0",
          "state": {
            "_view_name": "HTMLView",
            "style": "IPY_MODEL_f2c2567930f042e3aeed4487081c6cd1",
            "_dom_classes": [],
            "description": "",
            "_model_name": "HTMLModel",
            "placeholder": "​",
            "_view_module": "@jupyter-widgets/controls",
            "_model_module_version": "1.5.0",
            "value": "",
            "_view_count": null,
            "_view_module_version": "1.5.0",
            "description_tooltip": null,
            "_model_module": "@jupyter-widgets/controls",
            "layout": "IPY_MODEL_714f72c95e10436d8177fa0129c0b4c6"
          }
        },
        "a7a370c9f41a4b34bf7eda3d22dc5201": {
          "model_module": "@jupyter-widgets/controls",
          "model_name": "FloatProgressModel",
          "model_module_version": "1.5.0",
          "state": {
            "_view_name": "ProgressView",
            "style": "IPY_MODEL_b908820857e74e4385487277005f9b11",
            "_dom_classes": [],
            "description": "",
            "_model_name": "FloatProgressModel",
            "bar_style": "success",
            "max": 5148,
            "_view_module": "@jupyter-widgets/controls",
            "_model_module_version": "1.5.0",
            "value": 5148,
            "_view_count": null,
            "_view_module_version": "1.5.0",
            "orientation": "horizontal",
            "min": 0,
            "description_tooltip": null,
            "_model_module": "@jupyter-widgets/controls",
            "layout": "IPY_MODEL_1b7b2c8adc894258acd238d2331fc12e"
          }
        },
        "8d29a18285834b1ab9a4ce5410044861": {
          "model_module": "@jupyter-widgets/controls",
          "model_name": "HTMLModel",
          "model_module_version": "1.5.0",
          "state": {
            "_view_name": "HTMLView",
            "style": "IPY_MODEL_bf82ed737ff94f64a5d8e962c936696f",
            "_dom_classes": [],
            "description": "",
            "_model_name": "HTMLModel",
            "placeholder": "​",
            "_view_module": "@jupyter-widgets/controls",
            "_model_module_version": "1.5.0",
            "value": " 6144/? [00:00&lt;00:00, 178301.96it/s]",
            "_view_count": null,
            "_view_module_version": "1.5.0",
            "description_tooltip": null,
            "_model_module": "@jupyter-widgets/controls",
            "layout": "IPY_MODEL_34fa6414648644b6bf0b855bff1a6937"
          }
        },
        "f2c2567930f042e3aeed4487081c6cd1": {
          "model_module": "@jupyter-widgets/controls",
          "model_name": "DescriptionStyleModel",
          "model_module_version": "1.5.0",
          "state": {
            "_view_name": "StyleView",
            "_model_name": "DescriptionStyleModel",
            "description_width": "",
            "_view_module": "@jupyter-widgets/base",
            "_model_module_version": "1.5.0",
            "_view_count": null,
            "_view_module_version": "1.2.0",
            "_model_module": "@jupyter-widgets/controls"
          }
        },
        "714f72c95e10436d8177fa0129c0b4c6": {
          "model_module": "@jupyter-widgets/base",
          "model_name": "LayoutModel",
          "model_module_version": "1.2.0",
          "state": {
            "_view_name": "LayoutView",
            "grid_template_rows": null,
            "right": null,
            "justify_content": null,
            "_view_module": "@jupyter-widgets/base",
            "overflow": null,
            "_model_module_version": "1.2.0",
            "_view_count": null,
            "flex_flow": null,
            "width": null,
            "min_width": null,
            "border": null,
            "align_items": null,
            "bottom": null,
            "_model_module": "@jupyter-widgets/base",
            "top": null,
            "grid_column": null,
            "overflow_y": null,
            "overflow_x": null,
            "grid_auto_flow": null,
            "grid_area": null,
            "grid_template_columns": null,
            "flex": null,
            "_model_name": "LayoutModel",
            "justify_items": null,
            "grid_row": null,
            "max_height": null,
            "align_content": null,
            "visibility": null,
            "align_self": null,
            "height": null,
            "min_height": null,
            "padding": null,
            "grid_auto_rows": null,
            "grid_gap": null,
            "max_width": null,
            "order": null,
            "_view_module_version": "1.2.0",
            "grid_template_areas": null,
            "object_position": null,
            "object_fit": null,
            "grid_auto_columns": null,
            "margin": null,
            "display": null,
            "left": null
          }
        },
        "b908820857e74e4385487277005f9b11": {
          "model_module": "@jupyter-widgets/controls",
          "model_name": "ProgressStyleModel",
          "model_module_version": "1.5.0",
          "state": {
            "_view_name": "StyleView",
            "_model_name": "ProgressStyleModel",
            "description_width": "",
            "_view_module": "@jupyter-widgets/base",
            "_model_module_version": "1.5.0",
            "_view_count": null,
            "_view_module_version": "1.2.0",
            "bar_color": null,
            "_model_module": "@jupyter-widgets/controls"
          }
        },
        "1b7b2c8adc894258acd238d2331fc12e": {
          "model_module": "@jupyter-widgets/base",
          "model_name": "LayoutModel",
          "model_module_version": "1.2.0",
          "state": {
            "_view_name": "LayoutView",
            "grid_template_rows": null,
            "right": null,
            "justify_content": null,
            "_view_module": "@jupyter-widgets/base",
            "overflow": null,
            "_model_module_version": "1.2.0",
            "_view_count": null,
            "flex_flow": null,
            "width": null,
            "min_width": null,
            "border": null,
            "align_items": null,
            "bottom": null,
            "_model_module": "@jupyter-widgets/base",
            "top": null,
            "grid_column": null,
            "overflow_y": null,
            "overflow_x": null,
            "grid_auto_flow": null,
            "grid_area": null,
            "grid_template_columns": null,
            "flex": null,
            "_model_name": "LayoutModel",
            "justify_items": null,
            "grid_row": null,
            "max_height": null,
            "align_content": null,
            "visibility": null,
            "align_self": null,
            "height": null,
            "min_height": null,
            "padding": null,
            "grid_auto_rows": null,
            "grid_gap": null,
            "max_width": null,
            "order": null,
            "_view_module_version": "1.2.0",
            "grid_template_areas": null,
            "object_position": null,
            "object_fit": null,
            "grid_auto_columns": null,
            "margin": null,
            "display": null,
            "left": null
          }
        },
        "bf82ed737ff94f64a5d8e962c936696f": {
          "model_module": "@jupyter-widgets/controls",
          "model_name": "DescriptionStyleModel",
          "model_module_version": "1.5.0",
          "state": {
            "_view_name": "StyleView",
            "_model_name": "DescriptionStyleModel",
            "description_width": "",
            "_view_module": "@jupyter-widgets/base",
            "_model_module_version": "1.5.0",
            "_view_count": null,
            "_view_module_version": "1.2.0",
            "_model_module": "@jupyter-widgets/controls"
          }
        },
        "34fa6414648644b6bf0b855bff1a6937": {
          "model_module": "@jupyter-widgets/base",
          "model_name": "LayoutModel",
          "model_module_version": "1.2.0",
          "state": {
            "_view_name": "LayoutView",
            "grid_template_rows": null,
            "right": null,
            "justify_content": null,
            "_view_module": "@jupyter-widgets/base",
            "overflow": null,
            "_model_module_version": "1.2.0",
            "_view_count": null,
            "flex_flow": null,
            "width": null,
            "min_width": null,
            "border": null,
            "align_items": null,
            "bottom": null,
            "_model_module": "@jupyter-widgets/base",
            "top": null,
            "grid_column": null,
            "overflow_y": null,
            "overflow_x": null,
            "grid_auto_flow": null,
            "grid_area": null,
            "grid_template_columns": null,
            "flex": null,
            "_model_name": "LayoutModel",
            "justify_items": null,
            "grid_row": null,
            "max_height": null,
            "align_content": null,
            "visibility": null,
            "align_self": null,
            "height": null,
            "min_height": null,
            "padding": null,
            "grid_auto_rows": null,
            "grid_gap": null,
            "max_width": null,
            "order": null,
            "_view_module_version": "1.2.0",
            "grid_template_areas": null,
            "object_position": null,
            "object_fit": null,
            "grid_auto_columns": null,
            "margin": null,
            "display": null,
            "left": null
          }
        }
      }
    }
  },
  "nbformat": 4,
  "nbformat_minor": 0
}