{
 "cells": [
  {
   "cell_type": "markdown",
   "id": "fa2cf498",
   "metadata": {},
   "source": [
    "## 3.4 미니배치와 데이터로드"
   ]
  },
  {
   "cell_type": "code",
   "execution_count": 1,
   "id": "d64480d9",
   "metadata": {},
   "outputs": [],
   "source": [
    "import torch\n",
    "import torch.nn as nn\n",
    "import torch.nn.functional as F"
   ]
  },
  {
   "cell_type": "code",
   "execution_count": 2,
   "id": "ea200db6",
   "metadata": {},
   "outputs": [],
   "source": [
    "from torch.utils.data import TensorDataset # 텐서데이터셋\n",
    "from torch.utils.data import DataLoader # 데이터로더"
   ]
  },
  {
   "cell_type": "code",
   "execution_count": 3,
   "id": "14eb922c",
   "metadata": {},
   "outputs": [],
   "source": [
    "x_train  =  torch.FloatTensor([[73,  80,  75], \n",
    "                               [93,  88,  93], \n",
    "                               [89,  91,  90], \n",
    "                               [96,  98,  100],   \n",
    "                               [73,  66,  70]])  \n",
    "y_train  =  torch.FloatTensor([[152],  [185],  [180],  [196],  [142]])"
   ]
  },
  {
   "cell_type": "code",
   "execution_count": 4,
   "id": "af8bb9e2",
   "metadata": {},
   "outputs": [],
   "source": [
    "dataset = TensorDataset(x_train, y_train)"
   ]
  },
  {
   "cell_type": "code",
   "execution_count": 5,
   "id": "1abd4757",
   "metadata": {},
   "outputs": [],
   "source": [
    "dataloader = DataLoader(dataset, batch_size=2, shuffle=True)"
   ]
  },
  {
   "cell_type": "code",
   "execution_count": 6,
   "id": "f9776bbd",
   "metadata": {},
   "outputs": [],
   "source": [
    "model = nn.Linear(3,1)\n",
    "optimizer = torch.optim.SGD(model.parameters(), lr=1e-5) "
   ]
  },
  {
   "cell_type": "code",
   "execution_count": 7,
   "id": "1ec08e33",
   "metadata": {},
   "outputs": [
    {
     "name": "stdout",
     "output_type": "stream",
     "text": [
      "Epoch    0/20 Batch 1/3 Cost: 23257.527344\n",
      "Epoch    0/20 Batch 2/3 Cost: 17672.039062\n",
      "Epoch    0/20 Batch 3/3 Cost: 3385.473633\n",
      "Epoch    1/20 Batch 1/3 Cost: 864.252502\n",
      "Epoch    1/20 Batch 2/3 Cost: 251.374481\n",
      "Epoch    1/20 Batch 3/3 Cost: 86.673782\n",
      "Epoch    2/20 Batch 1/3 Cost: 35.489113\n",
      "Epoch    2/20 Batch 2/3 Cost: 13.626832\n",
      "Epoch    2/20 Batch 3/3 Cost: 0.394986\n",
      "Epoch    3/20 Batch 1/3 Cost: 12.455564\n",
      "Epoch    3/20 Batch 2/3 Cost: 0.078475\n",
      "Epoch    3/20 Batch 3/3 Cost: 3.066026\n",
      "Epoch    4/20 Batch 1/3 Cost: 3.280087\n",
      "Epoch    4/20 Batch 2/3 Cost: 4.944057\n",
      "Epoch    4/20 Batch 3/3 Cost: 4.782553\n",
      "Epoch    5/20 Batch 1/3 Cost: 2.771343\n",
      "Epoch    5/20 Batch 2/3 Cost: 6.105266\n",
      "Epoch    5/20 Batch 3/3 Cost: 0.111668\n",
      "Epoch    6/20 Batch 1/3 Cost: 1.355516\n",
      "Epoch    6/20 Batch 2/3 Cost: 7.863143\n",
      "Epoch    6/20 Batch 3/3 Cost: 0.797077\n",
      "Epoch    7/20 Batch 1/3 Cost: 0.954928\n",
      "Epoch    7/20 Batch 2/3 Cost: 2.446537\n",
      "Epoch    7/20 Batch 3/3 Cost: 10.253852\n",
      "Epoch    8/20 Batch 1/3 Cost: 0.887550\n",
      "Epoch    8/20 Batch 2/3 Cost: 3.622182\n",
      "Epoch    8/20 Batch 3/3 Cost: 9.227926\n",
      "Epoch    9/20 Batch 1/3 Cost: 4.789481\n",
      "Epoch    9/20 Batch 2/3 Cost: 4.295466\n",
      "Epoch    9/20 Batch 3/3 Cost: 0.814775\n",
      "Epoch   10/20 Batch 1/3 Cost: 0.473899\n",
      "Epoch   10/20 Batch 2/3 Cost: 6.461836\n",
      "Epoch   10/20 Batch 3/3 Cost: 0.834451\n",
      "Epoch   11/20 Batch 1/3 Cost: 4.880267\n",
      "Epoch   11/20 Batch 2/3 Cost: 4.588723\n",
      "Epoch   11/20 Batch 3/3 Cost: 0.139574\n",
      "Epoch   12/20 Batch 1/3 Cost: 5.909377\n",
      "Epoch   12/20 Batch 2/3 Cost: 0.940622\n",
      "Epoch   12/20 Batch 3/3 Cost: 5.030553\n",
      "Epoch   13/20 Batch 1/3 Cost: 6.560403\n",
      "Epoch   13/20 Batch 2/3 Cost: 1.064764\n",
      "Epoch   13/20 Batch 3/3 Cost: 4.468344\n",
      "Epoch   14/20 Batch 1/3 Cost: 3.005464\n",
      "Epoch   14/20 Batch 2/3 Cost: 0.096011\n",
      "Epoch   14/20 Batch 3/3 Cost: 10.586913\n",
      "Epoch   15/20 Batch 1/3 Cost: 3.870324\n",
      "Epoch   15/20 Batch 2/3 Cost: 0.203102\n",
      "Epoch   15/20 Batch 3/3 Cost: 8.419880\n",
      "Epoch   16/20 Batch 1/3 Cost: 5.804440\n",
      "Epoch   16/20 Batch 2/3 Cost: 4.386791\n",
      "Epoch   16/20 Batch 3/3 Cost: 0.775967\n",
      "Epoch   17/20 Batch 1/3 Cost: 0.462841\n",
      "Epoch   17/20 Batch 2/3 Cost: 4.656357\n",
      "Epoch   17/20 Batch 3/3 Cost: 9.312387\n",
      "Epoch   18/20 Batch 1/3 Cost: 6.580687\n",
      "Epoch   18/20 Batch 2/3 Cost: 0.764695\n",
      "Epoch   18/20 Batch 3/3 Cost: 0.292863\n",
      "Epoch   19/20 Batch 1/3 Cost: 0.784877\n",
      "Epoch   19/20 Batch 2/3 Cost: 6.021489\n",
      "Epoch   19/20 Batch 3/3 Cost: 0.100887\n",
      "Epoch   20/20 Batch 1/3 Cost: 3.893973\n",
      "Epoch   20/20 Batch 2/3 Cost: 3.785024\n",
      "Epoch   20/20 Batch 3/3 Cost: 2.750599\n"
     ]
    }
   ],
   "source": [
    "nb_epochs = 20\n",
    "for epoch in range(nb_epochs + 1):\n",
    "  for batch_idx, samples in enumerate(dataloader):\n",
    "    # print(batch_idx)\n",
    "    # print(samples)\n",
    "    x_train, y_train = samples\n",
    "    # H(x) 계산\n",
    "    prediction = model(x_train)\n",
    "\n",
    "    # cost 계산\n",
    "    cost = F.mse_loss(prediction, y_train)\n",
    "\n",
    "    # cost로 H(x) 계산\n",
    "    optimizer.zero_grad()\n",
    "    cost.backward()\n",
    "    optimizer.step()\n",
    "\n",
    "    print('Epoch {:4d}/{} Batch {}/{} Cost: {:.6f}'.format(\n",
    "        epoch, nb_epochs, batch_idx+1, len(dataloader),\n",
    "        cost.item()\n",
    "        ))"
   ]
  },
  {
   "cell_type": "code",
   "execution_count": 8,
   "id": "f2b22841",
   "metadata": {},
   "outputs": [
    {
     "name": "stdout",
     "output_type": "stream",
     "text": [
      "훈련 후 입력이 73, 80, 75일 때의 예측값 : tensor([[152.5234]], grad_fn=<AddmmBackward0>)\n"
     ]
    }
   ],
   "source": [
    "# 임의의 입력 [73, 80, 75]를 선언\n",
    "new_var =  torch.FloatTensor([[73, 80, 75]]) \n",
    "# 입력한 값 [73, 80, 75]에 대해서 예측값 y를 리턴받아서 pred_y에 저장\n",
    "pred_y = model(new_var) \n",
    "print(\"훈련 후 입력이 73, 80, 75일 때의 예측값 :\", pred_y) "
   ]
  },
  {
   "cell_type": "markdown",
   "id": "b263e226",
   "metadata": {},
   "source": [
    "## 4.7 커스텀 데이터셋"
   ]
  },
  {
   "cell_type": "code",
   "execution_count": 9,
   "id": "0bc9ddbe",
   "metadata": {},
   "outputs": [],
   "source": [
    "import torch\n",
    "import torch.nn.functional as F"
   ]
  },
  {
   "cell_type": "code",
   "execution_count": 10,
   "id": "4642f743",
   "metadata": {},
   "outputs": [],
   "source": [
    "from torch.utils.data import Dataset\n",
    "from torch.utils.data import DataLoader"
   ]
  },
  {
   "cell_type": "code",
   "execution_count": 11,
   "id": "1ff2768c",
   "metadata": {},
   "outputs": [],
   "source": [
    "# Dataset 상속\n",
    "class CustomDataset(Dataset): \n",
    "  def __init__(self):\n",
    "    self.x_data = [[73, 80, 75],\n",
    "                   [93, 88, 93],\n",
    "                   [89, 91, 90],\n",
    "                   [96, 98, 100],\n",
    "                   [73, 66, 70]]\n",
    "    self.y_data = [[152], [185], [180], [196], [142]]\n",
    "\n",
    "  # 총 데이터의 개수를 리턴\n",
    "  def __len__(self): \n",
    "    return len(self.x_data)\n",
    "\n",
    "  # 인덱스를 입력받아 그에 맵핑되는 입출력 데이터를 파이토치의 Tensor 형태로 리턴\n",
    "  def __getitem__(self, idx): \n",
    "    x = torch.FloatTensor(self.x_data[idx])\n",
    "    y = torch.FloatTensor(self.y_data[idx])\n",
    "    return x, y\n"
   ]
  },
  {
   "cell_type": "code",
   "execution_count": 12,
   "id": "afca916e",
   "metadata": {},
   "outputs": [],
   "source": [
    "dataset = CustomDataset()\n",
    "dataloader = DataLoader(dataset, batch_size=2, shuffle=True)"
   ]
  },
  {
   "cell_type": "code",
   "execution_count": 13,
   "id": "80cdd12b",
   "metadata": {},
   "outputs": [],
   "source": [
    "model = torch.nn.Linear(3,1)\n",
    "optimizer = torch.optim.SGD(model.parameters(), lr=1e-5) "
   ]
  },
  {
   "cell_type": "code",
   "execution_count": 14,
   "id": "0bae180b",
   "metadata": {},
   "outputs": [
    {
     "name": "stdout",
     "output_type": "stream",
     "text": [
      "Epoch    0/20 Batch 1/3 Cost: 75020.125000\n",
      "Epoch    0/20 Batch 2/3 Cost: 24831.166016\n",
      "Epoch    0/20 Batch 3/3 Cost: 12616.029297\n",
      "Epoch    1/20 Batch 1/3 Cost: 1722.126465\n",
      "Epoch    1/20 Batch 2/3 Cost: 631.052612\n",
      "Epoch    1/20 Batch 3/3 Cost: 192.532135\n",
      "Epoch    2/20 Batch 1/3 Cost: 67.422203\n",
      "Epoch    2/20 Batch 2/3 Cost: 8.603775\n",
      "Epoch    2/20 Batch 3/3 Cost: 10.887603\n",
      "Epoch    3/20 Batch 1/3 Cost: 2.154814\n",
      "Epoch    3/20 Batch 2/3 Cost: 1.840367\n",
      "Epoch    3/20 Batch 3/3 Cost: 0.000073\n",
      "Epoch    4/20 Batch 1/3 Cost: 0.698225\n",
      "Epoch    4/20 Batch 2/3 Cost: 0.936083\n",
      "Epoch    4/20 Batch 3/3 Cost: 3.266708\n",
      "Epoch    5/20 Batch 1/3 Cost: 1.726784\n",
      "Epoch    5/20 Batch 2/3 Cost: 0.370153\n",
      "Epoch    5/20 Batch 3/3 Cost: 0.952244\n",
      "Epoch    6/20 Batch 1/3 Cost: 1.330517\n",
      "Epoch    6/20 Batch 2/3 Cost: 1.051045\n",
      "Epoch    6/20 Batch 3/3 Cost: 0.488075\n",
      "Epoch    7/20 Batch 1/3 Cost: 2.348737\n",
      "Epoch    7/20 Batch 2/3 Cost: 1.078578\n",
      "Epoch    7/20 Batch 3/3 Cost: 0.295047\n",
      "Epoch    8/20 Batch 1/3 Cost: 1.636580\n",
      "Epoch    8/20 Batch 2/3 Cost: 1.009051\n",
      "Epoch    8/20 Batch 3/3 Cost: 0.394660\n",
      "Epoch    9/20 Batch 1/3 Cost: 0.225076\n",
      "Epoch    9/20 Batch 2/3 Cost: 1.103949\n",
      "Epoch    9/20 Batch 3/3 Cost: 2.661046\n",
      "Epoch   10/20 Batch 1/3 Cost: 1.286620\n",
      "Epoch   10/20 Batch 2/3 Cost: 1.284094\n",
      "Epoch   10/20 Batch 3/3 Cost: 0.119922\n",
      "Epoch   11/20 Batch 1/3 Cost: 0.306682\n",
      "Epoch   11/20 Batch 2/3 Cost: 1.012499\n",
      "Epoch   11/20 Batch 3/3 Cost: 2.480183\n",
      "Epoch   12/20 Batch 1/3 Cost: 0.785072\n",
      "Epoch   12/20 Batch 2/3 Cost: 1.465585\n",
      "Epoch   12/20 Batch 3/3 Cost: 0.816898\n",
      "Epoch   13/20 Batch 1/3 Cost: 0.695208\n",
      "Epoch   13/20 Batch 2/3 Cost: 0.928648\n",
      "Epoch   13/20 Batch 3/3 Cost: 3.236222\n",
      "Epoch   14/20 Batch 1/3 Cost: 1.134233\n",
      "Epoch   14/20 Batch 2/3 Cost: 1.033607\n",
      "Epoch   14/20 Batch 3/3 Cost: 0.966052\n",
      "Epoch   15/20 Batch 1/3 Cost: 0.366716\n",
      "Epoch   15/20 Batch 2/3 Cost: 0.975214\n",
      "Epoch   15/20 Batch 3/3 Cost: 2.517086\n",
      "Epoch   16/20 Batch 1/3 Cost: 0.272419\n",
      "Epoch   16/20 Batch 2/3 Cost: 1.285575\n",
      "Epoch   16/20 Batch 3/3 Cost: 2.197801\n",
      "Epoch   17/20 Batch 1/3 Cost: 1.104002\n",
      "Epoch   17/20 Batch 2/3 Cost: 0.106685\n",
      "Epoch   17/20 Batch 3/3 Cost: 3.003242\n",
      "Epoch   18/20 Batch 1/3 Cost: 0.848673\n",
      "Epoch   18/20 Batch 2/3 Cost: 1.324647\n",
      "Epoch   18/20 Batch 3/3 Cost: 0.729088\n",
      "Epoch   19/20 Batch 1/3 Cost: 2.105728\n",
      "Epoch   19/20 Batch 2/3 Cost: 0.659918\n",
      "Epoch   19/20 Batch 3/3 Cost: 1.133288\n",
      "Epoch   20/20 Batch 1/3 Cost: 1.147303\n",
      "Epoch   20/20 Batch 2/3 Cost: 1.340881\n",
      "Epoch   20/20 Batch 3/3 Cost: 1.344547\n"
     ]
    }
   ],
   "source": [
    "nb_epochs = 20\n",
    "for epoch in range(nb_epochs + 1):\n",
    "  for batch_idx, samples in enumerate(dataloader):\n",
    "    # print(batch_idx)\n",
    "    # print(samples)\n",
    "    x_train, y_train = samples\n",
    "    # H(x) 계산\n",
    "    prediction = model(x_train)\n",
    "\n",
    "    # cost 계산\n",
    "    cost = F.mse_loss(prediction, y_train)\n",
    "\n",
    "    # cost로 H(x) 계산\n",
    "    optimizer.zero_grad()\n",
    "    cost.backward()\n",
    "    optimizer.step()\n",
    "\n",
    "    print('Epoch {:4d}/{} Batch {}/{} Cost: {:.6f}'.format(\n",
    "        epoch, nb_epochs, batch_idx+1, len(dataloader),\n",
    "        cost.item()\n",
    "        ))"
   ]
  },
  {
   "cell_type": "code",
   "execution_count": 15,
   "id": "a2eb69c1",
   "metadata": {},
   "outputs": [
    {
     "name": "stdout",
     "output_type": "stream",
     "text": [
      "훈련 후 입력이 73, 80, 75일 때의 예측값 : tensor([[151.7293]], grad_fn=<AddmmBackward0>)\n"
     ]
    }
   ],
   "source": [
    "# 임의의 입력 [73, 80, 75]를 선언\n",
    "new_var =  torch.FloatTensor([[73, 80, 75]]) \n",
    "# 입력한 값 [73, 80, 75]에 대해서 예측값 y를 리턴받아서 pred_y에 저장\n",
    "pred_y = model(new_var) \n",
    "print(\"훈련 후 입력이 73, 80, 75일 때의 예측값 :\", pred_y) "
   ]
  },
  {
   "cell_type": "code",
   "execution_count": null,
   "id": "e6adb5cc",
   "metadata": {},
   "outputs": [],
   "source": []
  }
 ],
 "metadata": {
  "kernelspec": {
   "display_name": "Python 3",
   "language": "python",
   "name": "python3"
  },
  "language_info": {
   "codemirror_mode": {
    "name": "ipython",
    "version": 3
   },
   "file_extension": ".py",
   "mimetype": "text/x-python",
   "name": "python",
   "nbconvert_exporter": "python",
   "pygments_lexer": "ipython3",
   "version": "3.8.8"
  }
 },
 "nbformat": 4,
 "nbformat_minor": 5
}
